{
 "cells": [
  {
   "cell_type": "code",
   "execution_count": 1,
   "metadata": {},
   "outputs": [],
   "source": [
    "import pandas as pd\n",
    "import numpy as np\n",
    "from sklearn import datasets, linear_model\n",
    "from sklearn.model_selection import train_test_split\n",
    "from matplotlib import pyplot as plt\n",
    "from sklearn.metrics import mean_squared_error"
   ]
  },
  {
   "cell_type": "code",
   "execution_count": 2,
   "metadata": {},
   "outputs": [],
   "source": [
    "regr=linear_model.LinearRegression()\n"
   ]
  },
  {
   "cell_type": "code",
   "execution_count": 3,
   "metadata": {},
   "outputs": [
    {
     "name": "stdout",
     "output_type": "stream",
     "text": [
      "['Unnamed: 0', 'price', 'condition', 'district', 'max_floor', 'street', 'num_rooms', 'region', 'area', 'url', 'num_bathrooms', 'building_type', 'floor', 'ceiling_height']\n"
     ]
    },
    {
     "data": {
      "text/plain": [
       "array(['Yerevan'], dtype=object)"
      ]
     },
     "execution_count": 3,
     "metadata": {},
     "output_type": "execute_result"
    }
   ],
   "source": [
    "data=pd.read_csv('houses_train.csv')\n",
    "target=data['price']\n",
    "data.head()\n",
    "print(list(data.columns))\n",
    "data['region'].unique()\n",
    "\n",
    "\n"
   ]
  },
  {
   "cell_type": "code",
   "execution_count": 5,
   "metadata": {},
   "outputs": [
    {
     "data": {
      "text/html": [
       "<div>\n",
       "<style scoped>\n",
       "    .dataframe tbody tr th:only-of-type {\n",
       "        vertical-align: middle;\n",
       "    }\n",
       "\n",
       "    .dataframe tbody tr th {\n",
       "        vertical-align: top;\n",
       "    }\n",
       "\n",
       "    .dataframe thead th {\n",
       "        text-align: right;\n",
       "    }\n",
       "</style>\n",
       "<table border=\"1\" class=\"dataframe\">\n",
       "  <thead>\n",
       "    <tr style=\"text-align: right;\">\n",
       "      <th></th>\n",
       "      <th>Unnamed: 0</th>\n",
       "      <th>price</th>\n",
       "      <th>condition</th>\n",
       "      <th>district</th>\n",
       "      <th>max_floor</th>\n",
       "      <th>street</th>\n",
       "      <th>num_rooms</th>\n",
       "      <th>region</th>\n",
       "      <th>area</th>\n",
       "      <th>url</th>\n",
       "      <th>num_bathrooms</th>\n",
       "      <th>building_type</th>\n",
       "      <th>floor</th>\n",
       "      <th>ceiling_height</th>\n",
       "    </tr>\n",
       "  </thead>\n",
       "  <tbody>\n",
       "    <tr>\n",
       "      <th>0</th>\n",
       "      <td>5546</td>\n",
       "      <td>130000.0</td>\n",
       "      <td>newly repaired</td>\n",
       "      <td>Center</td>\n",
       "      <td>4</td>\n",
       "      <td>Sayat Nova Ave</td>\n",
       "      <td>3</td>\n",
       "      <td>Yerevan</td>\n",
       "      <td>96.0</td>\n",
       "      <td>http://www.myrealty.am/en/item/28244/3-senyaka...</td>\n",
       "      <td>1</td>\n",
       "      <td>stone</td>\n",
       "      <td>3</td>\n",
       "      <td>3.2</td>\n",
       "    </tr>\n",
       "    <tr>\n",
       "      <th>1</th>\n",
       "      <td>2979</td>\n",
       "      <td>65000.0</td>\n",
       "      <td>good</td>\n",
       "      <td>Arabkir</td>\n",
       "      <td>5</td>\n",
       "      <td>Hr.Kochar St</td>\n",
       "      <td>3</td>\n",
       "      <td>Yerevan</td>\n",
       "      <td>78.0</td>\n",
       "      <td>http://www.myrealty.am/en/item/18029/3-senyaka...</td>\n",
       "      <td>1</td>\n",
       "      <td>stone</td>\n",
       "      <td>2</td>\n",
       "      <td>2.8</td>\n",
       "    </tr>\n",
       "    <tr>\n",
       "      <th>2</th>\n",
       "      <td>2698</td>\n",
       "      <td>129000.0</td>\n",
       "      <td>good</td>\n",
       "      <td>Center</td>\n",
       "      <td>10</td>\n",
       "      <td>M.Khorenatsi St</td>\n",
       "      <td>3</td>\n",
       "      <td>Yerevan</td>\n",
       "      <td>90.0</td>\n",
       "      <td>http://www.myrealty.am/en/item/37797/3-senyaka...</td>\n",
       "      <td>1</td>\n",
       "      <td>panel</td>\n",
       "      <td>3</td>\n",
       "      <td>2.8</td>\n",
       "    </tr>\n",
       "    <tr>\n",
       "      <th>3</th>\n",
       "      <td>4548</td>\n",
       "      <td>52000.0</td>\n",
       "      <td>newly repaired</td>\n",
       "      <td>Center</td>\n",
       "      <td>14</td>\n",
       "      <td>Argishti St</td>\n",
       "      <td>2</td>\n",
       "      <td>Yerevan</td>\n",
       "      <td>53.0</td>\n",
       "      <td>http://www.myrealty.am/en/item/36153/2-senyaka...</td>\n",
       "      <td>1</td>\n",
       "      <td>monolit</td>\n",
       "      <td>5</td>\n",
       "      <td>3.0</td>\n",
       "    </tr>\n",
       "    <tr>\n",
       "      <th>4</th>\n",
       "      <td>2982</td>\n",
       "      <td>65000.0</td>\n",
       "      <td>newly repaired</td>\n",
       "      <td>Center</td>\n",
       "      <td>12</td>\n",
       "      <td>Mashtots Ave</td>\n",
       "      <td>2</td>\n",
       "      <td>Yerevan</td>\n",
       "      <td>47.0</td>\n",
       "      <td>http://www.myrealty.am/en/item/17566/2-senyaka...</td>\n",
       "      <td>1</td>\n",
       "      <td>panel</td>\n",
       "      <td>3</td>\n",
       "      <td>2.8</td>\n",
       "    </tr>\n",
       "  </tbody>\n",
       "</table>\n",
       "</div>"
      ],
      "text/plain": [
       "   Unnamed: 0     price       condition district  max_floor           street  \\\n",
       "0        5546  130000.0  newly repaired   Center          4   Sayat Nova Ave   \n",
       "1        2979   65000.0            good  Arabkir          5     Hr.Kochar St   \n",
       "2        2698  129000.0            good   Center         10  M.Khorenatsi St   \n",
       "3        4548   52000.0  newly repaired   Center         14      Argishti St   \n",
       "4        2982   65000.0  newly repaired   Center         12     Mashtots Ave   \n",
       "\n",
       "   num_rooms   region  area  \\\n",
       "0          3  Yerevan  96.0   \n",
       "1          3  Yerevan  78.0   \n",
       "2          3  Yerevan  90.0   \n",
       "3          2  Yerevan  53.0   \n",
       "4          2  Yerevan  47.0   \n",
       "\n",
       "                                                 url  num_bathrooms  \\\n",
       "0  http://www.myrealty.am/en/item/28244/3-senyaka...              1   \n",
       "1  http://www.myrealty.am/en/item/18029/3-senyaka...              1   \n",
       "2  http://www.myrealty.am/en/item/37797/3-senyaka...              1   \n",
       "3  http://www.myrealty.am/en/item/36153/2-senyaka...              1   \n",
       "4  http://www.myrealty.am/en/item/17566/2-senyaka...              1   \n",
       "\n",
       "  building_type  floor  ceiling_height  \n",
       "0         stone      3             3.2  \n",
       "1         stone      2             2.8  \n",
       "2         panel      3             2.8  \n",
       "3       monolit      5             3.0  \n",
       "4         panel      3             2.8  "
      ]
     },
     "execution_count": 5,
     "metadata": {},
     "output_type": "execute_result"
    }
   ],
   "source": [
    "data.head()"
   ]
  },
  {
   "cell_type": "markdown",
   "metadata": {},
   "source": [
    "## Using linear regression"
   ]
  },
  {
   "cell_type": "code",
   "execution_count": 7,
   "metadata": {},
   "outputs": [
    {
     "data": {
      "text/html": [
       "<div>\n",
       "<style scoped>\n",
       "    .dataframe tbody tr th:only-of-type {\n",
       "        vertical-align: middle;\n",
       "    }\n",
       "\n",
       "    .dataframe tbody tr th {\n",
       "        vertical-align: top;\n",
       "    }\n",
       "\n",
       "    .dataframe thead th {\n",
       "        text-align: right;\n",
       "    }\n",
       "</style>\n",
       "<table border=\"1\" class=\"dataframe\">\n",
       "  <thead>\n",
       "    <tr style=\"text-align: right;\">\n",
       "      <th></th>\n",
       "      <th>Unnamed: 0</th>\n",
       "      <th>max_floor</th>\n",
       "      <th>num_rooms</th>\n",
       "      <th>area</th>\n",
       "      <th>num_bathrooms</th>\n",
       "      <th>floor</th>\n",
       "      <th>ceiling_height</th>\n",
       "    </tr>\n",
       "  </thead>\n",
       "  <tbody>\n",
       "    <tr>\n",
       "      <th>0</th>\n",
       "      <td>5546</td>\n",
       "      <td>4</td>\n",
       "      <td>3</td>\n",
       "      <td>96.0</td>\n",
       "      <td>1</td>\n",
       "      <td>3</td>\n",
       "      <td>3.2</td>\n",
       "    </tr>\n",
       "    <tr>\n",
       "      <th>1</th>\n",
       "      <td>2979</td>\n",
       "      <td>5</td>\n",
       "      <td>3</td>\n",
       "      <td>78.0</td>\n",
       "      <td>1</td>\n",
       "      <td>2</td>\n",
       "      <td>2.8</td>\n",
       "    </tr>\n",
       "    <tr>\n",
       "      <th>2</th>\n",
       "      <td>2698</td>\n",
       "      <td>10</td>\n",
       "      <td>3</td>\n",
       "      <td>90.0</td>\n",
       "      <td>1</td>\n",
       "      <td>3</td>\n",
       "      <td>2.8</td>\n",
       "    </tr>\n",
       "    <tr>\n",
       "      <th>3</th>\n",
       "      <td>4548</td>\n",
       "      <td>14</td>\n",
       "      <td>2</td>\n",
       "      <td>53.0</td>\n",
       "      <td>1</td>\n",
       "      <td>5</td>\n",
       "      <td>3.0</td>\n",
       "    </tr>\n",
       "    <tr>\n",
       "      <th>4</th>\n",
       "      <td>2982</td>\n",
       "      <td>12</td>\n",
       "      <td>2</td>\n",
       "      <td>47.0</td>\n",
       "      <td>1</td>\n",
       "      <td>3</td>\n",
       "      <td>2.8</td>\n",
       "    </tr>\n",
       "    <tr>\n",
       "      <th>...</th>\n",
       "      <td>...</td>\n",
       "      <td>...</td>\n",
       "      <td>...</td>\n",
       "      <td>...</td>\n",
       "      <td>...</td>\n",
       "      <td>...</td>\n",
       "      <td>...</td>\n",
       "    </tr>\n",
       "    <tr>\n",
       "      <th>4995</th>\n",
       "      <td>2417</td>\n",
       "      <td>16</td>\n",
       "      <td>3</td>\n",
       "      <td>100.0</td>\n",
       "      <td>1</td>\n",
       "      <td>8</td>\n",
       "      <td>2.8</td>\n",
       "    </tr>\n",
       "    <tr>\n",
       "      <th>4996</th>\n",
       "      <td>1307</td>\n",
       "      <td>6</td>\n",
       "      <td>3</td>\n",
       "      <td>135.0</td>\n",
       "      <td>1</td>\n",
       "      <td>5</td>\n",
       "      <td>2.8</td>\n",
       "    </tr>\n",
       "    <tr>\n",
       "      <th>4997</th>\n",
       "      <td>2863</td>\n",
       "      <td>9</td>\n",
       "      <td>3</td>\n",
       "      <td>73.0</td>\n",
       "      <td>2</td>\n",
       "      <td>3</td>\n",
       "      <td>3.0</td>\n",
       "    </tr>\n",
       "    <tr>\n",
       "      <th>4998</th>\n",
       "      <td>1470</td>\n",
       "      <td>5</td>\n",
       "      <td>1</td>\n",
       "      <td>48.0</td>\n",
       "      <td>1</td>\n",
       "      <td>1</td>\n",
       "      <td>2.8</td>\n",
       "    </tr>\n",
       "    <tr>\n",
       "      <th>4999</th>\n",
       "      <td>1272</td>\n",
       "      <td>14</td>\n",
       "      <td>3</td>\n",
       "      <td>96.0</td>\n",
       "      <td>1</td>\n",
       "      <td>14</td>\n",
       "      <td>2.8</td>\n",
       "    </tr>\n",
       "  </tbody>\n",
       "</table>\n",
       "<p>5000 rows × 7 columns</p>\n",
       "</div>"
      ],
      "text/plain": [
       "      Unnamed: 0  max_floor  num_rooms   area  num_bathrooms  floor  \\\n",
       "0           5546          4          3   96.0              1      3   \n",
       "1           2979          5          3   78.0              1      2   \n",
       "2           2698         10          3   90.0              1      3   \n",
       "3           4548         14          2   53.0              1      5   \n",
       "4           2982         12          2   47.0              1      3   \n",
       "...          ...        ...        ...    ...            ...    ...   \n",
       "4995        2417         16          3  100.0              1      8   \n",
       "4996        1307          6          3  135.0              1      5   \n",
       "4997        2863          9          3   73.0              2      3   \n",
       "4998        1470          5          1   48.0              1      1   \n",
       "4999        1272         14          3   96.0              1     14   \n",
       "\n",
       "      ceiling_height  \n",
       "0                3.2  \n",
       "1                2.8  \n",
       "2                2.8  \n",
       "3                3.0  \n",
       "4                2.8  \n",
       "...              ...  \n",
       "4995             2.8  \n",
       "4996             2.8  \n",
       "4997             3.0  \n",
       "4998             2.8  \n",
       "4999             2.8  \n",
       "\n",
       "[5000 rows x 7 columns]"
      ]
     },
     "execution_count": 7,
     "metadata": {},
     "output_type": "execute_result"
    }
   ],
   "source": [
    "df1=data[[\"Unnamed: 0\",'max_floor','num_rooms','area','num_bathrooms','floor','ceiling_height']]\n",
    "df1"
   ]
  },
  {
   "cell_type": "code",
   "execution_count": 8,
   "metadata": {},
   "outputs": [],
   "source": [
    "xTrain,xTest,yTrain,yTest=train_test_split(df1,target,random_state=1,test_size=0.2\n",
    "                                          )"
   ]
  },
  {
   "cell_type": "code",
   "execution_count": 36,
   "metadata": {},
   "outputs": [
    {
     "data": {
      "text/plain": [
       "array([120918.78274842,  68449.50549587,  28573.21118923,  70875.90287766,\n",
       "        56296.16761546])"
      ]
     },
     "execution_count": 36,
     "metadata": {},
     "output_type": "execute_result"
    }
   ],
   "source": [
    "regr.fit(xTrain,yTrain)\n",
    "pred1=regr.predict(xTest)\n",
    "pred11=regr.predict(xTrain)\n",
    "pred1[:5]"
   ]
  },
  {
   "cell_type": "code",
   "execution_count": 37,
   "metadata": {},
   "outputs": [
    {
     "data": {
      "text/plain": [
       "2764     62000.0\n",
       "4767     37000.0\n",
       "3814     55000.0\n",
       "3499    118000.0\n",
       "2735     42000.0\n",
       "Name: price, dtype: float64"
      ]
     },
     "execution_count": 37,
     "metadata": {},
     "output_type": "execute_result"
    }
   ],
   "source": [
    "yTest[:5]"
   ]
  },
  {
   "cell_type": "code",
   "execution_count": 38,
   "metadata": {},
   "outputs": [
    {
     "data": {
      "text/plain": [
       "(array([-3.71271120e-02, -1.02285813e+02, -1.24985145e+04,  1.35693020e+03,\n",
       "         1.90831916e+04,  1.01326874e+02,  7.89021625e+04]),\n",
       " -241765.10707379336)"
      ]
     },
     "execution_count": 38,
     "metadata": {},
     "output_type": "execute_result"
    }
   ],
   "source": [
    "regr.coef_, regr.intercept_"
   ]
  },
  {
   "cell_type": "code",
   "execution_count": 39,
   "metadata": {},
   "outputs": [
    {
     "name": "stdout",
     "output_type": "stream",
     "text": [
      "Test RMSE: 36168.1455396416\n",
      "Train RMSE: 36833.17948704149\n"
     ]
    }
   ],
   "source": [
    "print ('Test RMSE:', np.sqrt(mean_squared_error(pred1, yTest)))\n",
    "print ('Train RMSE:', np.sqrt(mean_squared_error(pred11, yTrain)))"
   ]
  },
  {
   "cell_type": "markdown",
   "metadata": {},
   "source": [
    "## Using KFold validation"
   ]
  },
  {
   "cell_type": "code",
   "execution_count": 40,
   "metadata": {},
   "outputs": [
    {
     "data": {
      "text/html": [
       "<div>\n",
       "<style scoped>\n",
       "    .dataframe tbody tr th:only-of-type {\n",
       "        vertical-align: middle;\n",
       "    }\n",
       "\n",
       "    .dataframe tbody tr th {\n",
       "        vertical-align: top;\n",
       "    }\n",
       "\n",
       "    .dataframe thead th {\n",
       "        text-align: right;\n",
       "    }\n",
       "</style>\n",
       "<table border=\"1\" class=\"dataframe\">\n",
       "  <thead>\n",
       "    <tr style=\"text-align: right;\">\n",
       "      <th></th>\n",
       "      <th>Unnamed: 0</th>\n",
       "      <th>max_floor</th>\n",
       "      <th>num_rooms</th>\n",
       "      <th>area</th>\n",
       "      <th>num_bathrooms</th>\n",
       "      <th>floor</th>\n",
       "      <th>ceiling_height</th>\n",
       "    </tr>\n",
       "  </thead>\n",
       "  <tbody>\n",
       "    <tr>\n",
       "      <th>0</th>\n",
       "      <td>5546</td>\n",
       "      <td>4</td>\n",
       "      <td>3</td>\n",
       "      <td>96.0</td>\n",
       "      <td>1</td>\n",
       "      <td>3</td>\n",
       "      <td>3.2</td>\n",
       "    </tr>\n",
       "    <tr>\n",
       "      <th>1</th>\n",
       "      <td>2979</td>\n",
       "      <td>5</td>\n",
       "      <td>3</td>\n",
       "      <td>78.0</td>\n",
       "      <td>1</td>\n",
       "      <td>2</td>\n",
       "      <td>2.8</td>\n",
       "    </tr>\n",
       "    <tr>\n",
       "      <th>2</th>\n",
       "      <td>2698</td>\n",
       "      <td>10</td>\n",
       "      <td>3</td>\n",
       "      <td>90.0</td>\n",
       "      <td>1</td>\n",
       "      <td>3</td>\n",
       "      <td>2.8</td>\n",
       "    </tr>\n",
       "    <tr>\n",
       "      <th>3</th>\n",
       "      <td>4548</td>\n",
       "      <td>14</td>\n",
       "      <td>2</td>\n",
       "      <td>53.0</td>\n",
       "      <td>1</td>\n",
       "      <td>5</td>\n",
       "      <td>3.0</td>\n",
       "    </tr>\n",
       "    <tr>\n",
       "      <th>4</th>\n",
       "      <td>2982</td>\n",
       "      <td>12</td>\n",
       "      <td>2</td>\n",
       "      <td>47.0</td>\n",
       "      <td>1</td>\n",
       "      <td>3</td>\n",
       "      <td>2.8</td>\n",
       "    </tr>\n",
       "  </tbody>\n",
       "</table>\n",
       "</div>"
      ],
      "text/plain": [
       "   Unnamed: 0  max_floor  num_rooms  area  num_bathrooms  floor  \\\n",
       "0        5546          4          3  96.0              1      3   \n",
       "1        2979          5          3  78.0              1      2   \n",
       "2        2698         10          3  90.0              1      3   \n",
       "3        4548         14          2  53.0              1      5   \n",
       "4        2982         12          2  47.0              1      3   \n",
       "\n",
       "   ceiling_height  \n",
       "0             3.2  \n",
       "1             2.8  \n",
       "2             2.8  \n",
       "3             3.0  \n",
       "4             2.8  "
      ]
     },
     "execution_count": 40,
     "metadata": {},
     "output_type": "execute_result"
    }
   ],
   "source": [
    "df1.head()"
   ]
  },
  {
   "cell_type": "code",
   "execution_count": 60,
   "metadata": {},
   "outputs": [
    {
     "name": "stdout",
     "output_type": "stream",
     "text": [
      "mean of test 36733.51604261687\n",
      "mean of train 36686.95912261126\n"
     ]
    }
   ],
   "source": [
    "\n",
    "from sklearn.model_selection import KFold\n",
    "kf = KFold(n_splits=10) # Define the split - into 10 folds \n",
    "test_list=[]\n",
    "train_list=[]\n",
    "for train_index, test_index in kf.split(df1):\n",
    "    #print('TRAIN:', train_index, 'TEST:', test_index)\n",
    "    X_train, X_test = df1.iloc[train_index], df1.iloc[test_index]\n",
    "    y_train, y_test = target[train_index], target[test_index]\n",
    "    regr.fit(X_train, y_train)\n",
    "    predictions1 = regr.predict(X_test)\n",
    "    predictions2 = regr.predict(X_train)\n",
    "    test_list.append(np.sqrt(mean_squared_error(predictions1,y_test)))\n",
    "    train_list.append(np.sqrt(mean_squared_error(predictions2,y_train)))\n",
    "print(\"mean of test\" ,np.mean(test_list))\n",
    "print(\"mean of train\" ,np.mean(train_list))"
   ]
  },
  {
   "cell_type": "markdown",
   "metadata": {},
   "source": [
    "## Using Standard Scaler"
   ]
  },
  {
   "cell_type": "code",
   "execution_count": 42,
   "metadata": {},
   "outputs": [],
   "source": [
    "from sklearn.preprocessing import StandardScaler"
   ]
  },
  {
   "cell_type": "code",
   "execution_count": 43,
   "metadata": {},
   "outputs": [
    {
     "data": {
      "text/html": [
       "<div>\n",
       "<style scoped>\n",
       "    .dataframe tbody tr th:only-of-type {\n",
       "        vertical-align: middle;\n",
       "    }\n",
       "\n",
       "    .dataframe tbody tr th {\n",
       "        vertical-align: top;\n",
       "    }\n",
       "\n",
       "    .dataframe thead th {\n",
       "        text-align: right;\n",
       "    }\n",
       "</style>\n",
       "<table border=\"1\" class=\"dataframe\">\n",
       "  <thead>\n",
       "    <tr style=\"text-align: right;\">\n",
       "      <th></th>\n",
       "      <th>Unnamed: 0</th>\n",
       "      <th>max_floor</th>\n",
       "      <th>num_rooms</th>\n",
       "      <th>area</th>\n",
       "      <th>num_bathrooms</th>\n",
       "      <th>floor</th>\n",
       "      <th>ceiling_height</th>\n",
       "    </tr>\n",
       "  </thead>\n",
       "  <tbody>\n",
       "    <tr>\n",
       "      <th>0</th>\n",
       "      <td>0.979334</td>\n",
       "      <td>-0.880765</td>\n",
       "      <td>1.577249</td>\n",
       "      <td>0.609944</td>\n",
       "      <td>1.998530</td>\n",
       "      <td>-0.034051</td>\n",
       "      <td>2.060643</td>\n",
       "    </tr>\n",
       "    <tr>\n",
       "      <th>1</th>\n",
       "      <td>-1.086931</td>\n",
       "      <td>-0.880765</td>\n",
       "      <td>0.364214</td>\n",
       "      <td>1.536146</td>\n",
       "      <td>-0.414425</td>\n",
       "      <td>-0.034051</td>\n",
       "      <td>-0.657883</td>\n",
       "    </tr>\n",
       "    <tr>\n",
       "      <th>2</th>\n",
       "      <td>-0.115066</td>\n",
       "      <td>2.477272</td>\n",
       "      <td>1.577249</td>\n",
       "      <td>0.771023</td>\n",
       "      <td>4.411485</td>\n",
       "      <td>3.230090</td>\n",
       "      <td>0.701380</td>\n",
       "    </tr>\n",
       "    <tr>\n",
       "      <th>3</th>\n",
       "      <td>-1.491874</td>\n",
       "      <td>1.757692</td>\n",
       "      <td>0.364214</td>\n",
       "      <td>0.730753</td>\n",
       "      <td>-0.414425</td>\n",
       "      <td>1.152909</td>\n",
       "      <td>0.701380</td>\n",
       "    </tr>\n",
       "    <tr>\n",
       "      <th>4</th>\n",
       "      <td>0.949358</td>\n",
       "      <td>1.757692</td>\n",
       "      <td>1.577249</td>\n",
       "      <td>0.771023</td>\n",
       "      <td>-0.414425</td>\n",
       "      <td>3.230090</td>\n",
       "      <td>0.701380</td>\n",
       "    </tr>\n",
       "  </tbody>\n",
       "</table>\n",
       "</div>"
      ],
      "text/plain": [
       "   Unnamed: 0  max_floor  num_rooms      area  num_bathrooms     floor  \\\n",
       "0    0.979334  -0.880765   1.577249  0.609944       1.998530 -0.034051   \n",
       "1   -1.086931  -0.880765   0.364214  1.536146      -0.414425 -0.034051   \n",
       "2   -0.115066   2.477272   1.577249  0.771023       4.411485  3.230090   \n",
       "3   -1.491874   1.757692   0.364214  0.730753      -0.414425  1.152909   \n",
       "4    0.949358   1.757692   1.577249  0.771023      -0.414425  3.230090   \n",
       "\n",
       "   ceiling_height  \n",
       "0        2.060643  \n",
       "1       -0.657883  \n",
       "2        0.701380  \n",
       "3        0.701380  \n",
       "4        0.701380  "
      ]
     },
     "execution_count": 43,
     "metadata": {},
     "output_type": "execute_result"
    }
   ],
   "source": [
    "norm=StandardScaler().fit(xTrain)\n",
    "dfTrain=pd.DataFrame(columns=xTrain.columns, data=norm.transform(xTrain))\n",
    "dfTrain.head()"
   ]
  },
  {
   "cell_type": "code",
   "execution_count": 44,
   "metadata": {},
   "outputs": [
    {
     "data": {
      "text/html": [
       "<div>\n",
       "<style scoped>\n",
       "    .dataframe tbody tr th:only-of-type {\n",
       "        vertical-align: middle;\n",
       "    }\n",
       "\n",
       "    .dataframe tbody tr th {\n",
       "        vertical-align: top;\n",
       "    }\n",
       "\n",
       "    .dataframe thead th {\n",
       "        text-align: right;\n",
       "    }\n",
       "</style>\n",
       "<table border=\"1\" class=\"dataframe\">\n",
       "  <thead>\n",
       "    <tr style=\"text-align: right;\">\n",
       "      <th></th>\n",
       "      <th>Unnamed: 0</th>\n",
       "      <th>max_floor</th>\n",
       "      <th>num_rooms</th>\n",
       "      <th>area</th>\n",
       "      <th>num_bathrooms</th>\n",
       "      <th>floor</th>\n",
       "      <th>ceiling_height</th>\n",
       "    </tr>\n",
       "  </thead>\n",
       "  <tbody>\n",
       "    <tr>\n",
       "      <th>0</th>\n",
       "      <td>0.279886</td>\n",
       "      <td>1.277973</td>\n",
       "      <td>-0.848821</td>\n",
       "      <td>0.086439</td>\n",
       "      <td>1.998530</td>\n",
       "      <td>-0.330791</td>\n",
       "      <td>0.701380</td>\n",
       "    </tr>\n",
       "    <tr>\n",
       "      <th>1</th>\n",
       "      <td>-1.417722</td>\n",
       "      <td>1.757692</td>\n",
       "      <td>0.364214</td>\n",
       "      <td>-0.074640</td>\n",
       "      <td>-0.414425</td>\n",
       "      <td>0.856169</td>\n",
       "      <td>-0.657883</td>\n",
       "    </tr>\n",
       "    <tr>\n",
       "      <th>2</th>\n",
       "      <td>-0.437443</td>\n",
       "      <td>0.078674</td>\n",
       "      <td>-0.848821</td>\n",
       "      <td>-1.645156</td>\n",
       "      <td>-0.414425</td>\n",
       "      <td>0.559429</td>\n",
       "      <td>-0.657883</td>\n",
       "    </tr>\n",
       "    <tr>\n",
       "      <th>3</th>\n",
       "      <td>-0.868156</td>\n",
       "      <td>-1.120625</td>\n",
       "      <td>-0.848821</td>\n",
       "      <td>-0.396797</td>\n",
       "      <td>-0.414425</td>\n",
       "      <td>-0.330791</td>\n",
       "      <td>-0.657883</td>\n",
       "    </tr>\n",
       "    <tr>\n",
       "      <th>4</th>\n",
       "      <td>-1.016986</td>\n",
       "      <td>0.798253</td>\n",
       "      <td>-0.848821</td>\n",
       "      <td>-0.799493</td>\n",
       "      <td>-0.414425</td>\n",
       "      <td>-0.924271</td>\n",
       "      <td>-0.657883</td>\n",
       "    </tr>\n",
       "  </tbody>\n",
       "</table>\n",
       "</div>"
      ],
      "text/plain": [
       "   Unnamed: 0  max_floor  num_rooms      area  num_bathrooms     floor  \\\n",
       "0    0.279886   1.277973  -0.848821  0.086439       1.998530 -0.330791   \n",
       "1   -1.417722   1.757692   0.364214 -0.074640      -0.414425  0.856169   \n",
       "2   -0.437443   0.078674  -0.848821 -1.645156      -0.414425  0.559429   \n",
       "3   -0.868156  -1.120625  -0.848821 -0.396797      -0.414425 -0.330791   \n",
       "4   -1.016986   0.798253  -0.848821 -0.799493      -0.414425 -0.924271   \n",
       "\n",
       "   ceiling_height  \n",
       "0        0.701380  \n",
       "1       -0.657883  \n",
       "2       -0.657883  \n",
       "3       -0.657883  \n",
       "4       -0.657883  "
      ]
     },
     "execution_count": 44,
     "metadata": {},
     "output_type": "execute_result"
    }
   ],
   "source": [
    "dfTest=pd.DataFrame(columns=xTest.columns, data=norm.transform(xTest))\n",
    "dfTest.head()"
   ]
  },
  {
   "cell_type": "code",
   "execution_count": 45,
   "metadata": {},
   "outputs": [
    {
     "data": {
      "text/plain": [
       "LinearRegression(copy_X=True, fit_intercept=True, n_jobs=None, normalize=False)"
      ]
     },
     "execution_count": 45,
     "metadata": {},
     "output_type": "execute_result"
    }
   ],
   "source": [
    "regr.fit(dfTrain,yTrain)"
   ]
  },
  {
   "cell_type": "code",
   "execution_count": 46,
   "metadata": {},
   "outputs": [
    {
     "name": "stdout",
     "output_type": "stream",
     "text": [
      "Test RMSE after Standard Scaler 36168.14553964143\n",
      "Train RMSE after Standard Scaler 36833.17948704149\n"
     ]
    }
   ],
   "source": [
    "print(\"Test RMSE after Standard Scaler\", np.sqrt(mean_squared_error(regr.predict(dfTest), yTest)))\n",
    "print(\"Train RMSE after Standard Scaler\", np.sqrt(mean_squared_error(regr.predict(dfTrain), yTrain)))"
   ]
  },
  {
   "cell_type": "markdown",
   "metadata": {},
   "source": [
    "## Using One Hot Encoding"
   ]
  },
  {
   "cell_type": "code",
   "execution_count": 47,
   "metadata": {},
   "outputs": [],
   "source": [
    "data2= data.drop('region',axis=1)"
   ]
  },
  {
   "cell_type": "code",
   "execution_count": 48,
   "metadata": {},
   "outputs": [
    {
     "data": {
      "text/html": [
       "<div>\n",
       "<style scoped>\n",
       "    .dataframe tbody tr th:only-of-type {\n",
       "        vertical-align: middle;\n",
       "    }\n",
       "\n",
       "    .dataframe tbody tr th {\n",
       "        vertical-align: top;\n",
       "    }\n",
       "\n",
       "    .dataframe thead th {\n",
       "        text-align: right;\n",
       "    }\n",
       "</style>\n",
       "<table border=\"1\" class=\"dataframe\">\n",
       "  <thead>\n",
       "    <tr style=\"text-align: right;\">\n",
       "      <th></th>\n",
       "      <th>Unnamed: 0</th>\n",
       "      <th>price</th>\n",
       "      <th>condition</th>\n",
       "      <th>district</th>\n",
       "      <th>max_floor</th>\n",
       "      <th>street</th>\n",
       "      <th>num_rooms</th>\n",
       "      <th>area</th>\n",
       "      <th>url</th>\n",
       "      <th>num_bathrooms</th>\n",
       "      <th>building_type</th>\n",
       "      <th>floor</th>\n",
       "      <th>ceiling_height</th>\n",
       "    </tr>\n",
       "  </thead>\n",
       "  <tbody>\n",
       "    <tr>\n",
       "      <th>0</th>\n",
       "      <td>5546</td>\n",
       "      <td>130000.0</td>\n",
       "      <td>newly repaired</td>\n",
       "      <td>Center</td>\n",
       "      <td>4</td>\n",
       "      <td>Sayat Nova Ave</td>\n",
       "      <td>3</td>\n",
       "      <td>96.0</td>\n",
       "      <td>http://www.myrealty.am/en/item/28244/3-senyaka...</td>\n",
       "      <td>1</td>\n",
       "      <td>stone</td>\n",
       "      <td>3</td>\n",
       "      <td>3.2</td>\n",
       "    </tr>\n",
       "    <tr>\n",
       "      <th>1</th>\n",
       "      <td>2979</td>\n",
       "      <td>65000.0</td>\n",
       "      <td>good</td>\n",
       "      <td>Arabkir</td>\n",
       "      <td>5</td>\n",
       "      <td>Hr.Kochar St</td>\n",
       "      <td>3</td>\n",
       "      <td>78.0</td>\n",
       "      <td>http://www.myrealty.am/en/item/18029/3-senyaka...</td>\n",
       "      <td>1</td>\n",
       "      <td>stone</td>\n",
       "      <td>2</td>\n",
       "      <td>2.8</td>\n",
       "    </tr>\n",
       "    <tr>\n",
       "      <th>2</th>\n",
       "      <td>2698</td>\n",
       "      <td>129000.0</td>\n",
       "      <td>good</td>\n",
       "      <td>Center</td>\n",
       "      <td>10</td>\n",
       "      <td>M.Khorenatsi St</td>\n",
       "      <td>3</td>\n",
       "      <td>90.0</td>\n",
       "      <td>http://www.myrealty.am/en/item/37797/3-senyaka...</td>\n",
       "      <td>1</td>\n",
       "      <td>panel</td>\n",
       "      <td>3</td>\n",
       "      <td>2.8</td>\n",
       "    </tr>\n",
       "    <tr>\n",
       "      <th>3</th>\n",
       "      <td>4548</td>\n",
       "      <td>52000.0</td>\n",
       "      <td>newly repaired</td>\n",
       "      <td>Center</td>\n",
       "      <td>14</td>\n",
       "      <td>Argishti St</td>\n",
       "      <td>2</td>\n",
       "      <td>53.0</td>\n",
       "      <td>http://www.myrealty.am/en/item/36153/2-senyaka...</td>\n",
       "      <td>1</td>\n",
       "      <td>monolit</td>\n",
       "      <td>5</td>\n",
       "      <td>3.0</td>\n",
       "    </tr>\n",
       "    <tr>\n",
       "      <th>4</th>\n",
       "      <td>2982</td>\n",
       "      <td>65000.0</td>\n",
       "      <td>newly repaired</td>\n",
       "      <td>Center</td>\n",
       "      <td>12</td>\n",
       "      <td>Mashtots Ave</td>\n",
       "      <td>2</td>\n",
       "      <td>47.0</td>\n",
       "      <td>http://www.myrealty.am/en/item/17566/2-senyaka...</td>\n",
       "      <td>1</td>\n",
       "      <td>panel</td>\n",
       "      <td>3</td>\n",
       "      <td>2.8</td>\n",
       "    </tr>\n",
       "  </tbody>\n",
       "</table>\n",
       "</div>"
      ],
      "text/plain": [
       "   Unnamed: 0     price       condition district  max_floor           street  \\\n",
       "0        5546  130000.0  newly repaired   Center          4   Sayat Nova Ave   \n",
       "1        2979   65000.0            good  Arabkir          5     Hr.Kochar St   \n",
       "2        2698  129000.0            good   Center         10  M.Khorenatsi St   \n",
       "3        4548   52000.0  newly repaired   Center         14      Argishti St   \n",
       "4        2982   65000.0  newly repaired   Center         12     Mashtots Ave   \n",
       "\n",
       "   num_rooms  area                                                url  \\\n",
       "0          3  96.0  http://www.myrealty.am/en/item/28244/3-senyaka...   \n",
       "1          3  78.0  http://www.myrealty.am/en/item/18029/3-senyaka...   \n",
       "2          3  90.0  http://www.myrealty.am/en/item/37797/3-senyaka...   \n",
       "3          2  53.0  http://www.myrealty.am/en/item/36153/2-senyaka...   \n",
       "4          2  47.0  http://www.myrealty.am/en/item/17566/2-senyaka...   \n",
       "\n",
       "   num_bathrooms building_type  floor  ceiling_height  \n",
       "0              1         stone      3             3.2  \n",
       "1              1         stone      2             2.8  \n",
       "2              1         panel      3             2.8  \n",
       "3              1       monolit      5             3.0  \n",
       "4              1         panel      3             2.8  "
      ]
     },
     "execution_count": 48,
     "metadata": {},
     "output_type": "execute_result"
    }
   ],
   "source": [
    "data2.head()"
   ]
  },
  {
   "cell_type": "code",
   "execution_count": 49,
   "metadata": {},
   "outputs": [
    {
     "data": {
      "text/plain": [
       "Index(['Unnamed: 0', 'price', 'condition', 'district', 'max_floor', 'street',\n",
       "       'num_rooms', 'area', 'url', 'num_bathrooms', 'building_type', 'floor',\n",
       "       'ceiling_height'],\n",
       "      dtype='object')"
      ]
     },
     "execution_count": 49,
     "metadata": {},
     "output_type": "execute_result"
    }
   ],
   "source": [
    "data2.columns"
   ]
  },
  {
   "cell_type": "code",
   "execution_count": 50,
   "metadata": {},
   "outputs": [
    {
     "data": {
      "text/plain": [
       "13"
      ]
     },
     "execution_count": 50,
     "metadata": {},
     "output_type": "execute_result"
    }
   ],
   "source": [
    "len(data2.columns)"
   ]
  },
  {
   "cell_type": "code",
   "execution_count": 51,
   "metadata": {},
   "outputs": [],
   "source": [
    "data_one_hot_encoding=pd.get_dummies(data2[['Unnamed: 0','condition','district','max_floor','street','num_rooms', 'area', 'url', 'num_bathrooms', 'building_type', 'floor',\n",
    "       'ceiling_height']])\n"
   ]
  },
  {
   "cell_type": "code",
   "execution_count": 52,
   "metadata": {},
   "outputs": [
    {
     "data": {
      "text/html": [
       "<div>\n",
       "<style scoped>\n",
       "    .dataframe tbody tr th:only-of-type {\n",
       "        vertical-align: middle;\n",
       "    }\n",
       "\n",
       "    .dataframe tbody tr th {\n",
       "        vertical-align: top;\n",
       "    }\n",
       "\n",
       "    .dataframe thead th {\n",
       "        text-align: right;\n",
       "    }\n",
       "</style>\n",
       "<table border=\"1\" class=\"dataframe\">\n",
       "  <thead>\n",
       "    <tr style=\"text-align: right;\">\n",
       "      <th></th>\n",
       "      <th>Unnamed: 0</th>\n",
       "      <th>max_floor</th>\n",
       "      <th>num_rooms</th>\n",
       "      <th>area</th>\n",
       "      <th>num_bathrooms</th>\n",
       "      <th>floor</th>\n",
       "      <th>ceiling_height</th>\n",
       "      <th>condition_good</th>\n",
       "      <th>condition_newly repaired</th>\n",
       "      <th>condition_zero condition</th>\n",
       "      <th>...</th>\n",
       "      <th>url_http://www.myrealty.am/en/item/98/2-senyakanoc-bnakaran-vacharq-Yerevan-Arabkir</th>\n",
       "      <th>url_http://www.myrealty.am/en/item/99/2-senyakanoc-bnakaran-vacharq-Yerevan-Center</th>\n",
       "      <th>url_http://www.myrealty.am/en/item/9923/2-senyakanoc-bnakaran-vacharq-Yerevan-Center</th>\n",
       "      <th>url_http://www.myrealty.am/en/item/9934/apartment-for-sale-in-Yerevan</th>\n",
       "      <th>url_http://www.myrealty.am/en/item/9937/2-senyakanoc-bnakaran-vacharq-Yerevan-Arabkir</th>\n",
       "      <th>url_http://www.myrealty.am/en/item/9953/apartment-for-sale-in-Yerevan</th>\n",
       "      <th>building_type_monolit</th>\n",
       "      <th>building_type_other</th>\n",
       "      <th>building_type_panel</th>\n",
       "      <th>building_type_stone</th>\n",
       "    </tr>\n",
       "  </thead>\n",
       "  <tbody>\n",
       "    <tr>\n",
       "      <th>0</th>\n",
       "      <td>5546</td>\n",
       "      <td>4</td>\n",
       "      <td>3</td>\n",
       "      <td>96.0</td>\n",
       "      <td>1</td>\n",
       "      <td>3</td>\n",
       "      <td>3.2</td>\n",
       "      <td>0</td>\n",
       "      <td>1</td>\n",
       "      <td>0</td>\n",
       "      <td>...</td>\n",
       "      <td>0</td>\n",
       "      <td>0</td>\n",
       "      <td>0</td>\n",
       "      <td>0</td>\n",
       "      <td>0</td>\n",
       "      <td>0</td>\n",
       "      <td>0</td>\n",
       "      <td>0</td>\n",
       "      <td>0</td>\n",
       "      <td>1</td>\n",
       "    </tr>\n",
       "    <tr>\n",
       "      <th>1</th>\n",
       "      <td>2979</td>\n",
       "      <td>5</td>\n",
       "      <td>3</td>\n",
       "      <td>78.0</td>\n",
       "      <td>1</td>\n",
       "      <td>2</td>\n",
       "      <td>2.8</td>\n",
       "      <td>1</td>\n",
       "      <td>0</td>\n",
       "      <td>0</td>\n",
       "      <td>...</td>\n",
       "      <td>0</td>\n",
       "      <td>0</td>\n",
       "      <td>0</td>\n",
       "      <td>0</td>\n",
       "      <td>0</td>\n",
       "      <td>0</td>\n",
       "      <td>0</td>\n",
       "      <td>0</td>\n",
       "      <td>0</td>\n",
       "      <td>1</td>\n",
       "    </tr>\n",
       "    <tr>\n",
       "      <th>2</th>\n",
       "      <td>2698</td>\n",
       "      <td>10</td>\n",
       "      <td>3</td>\n",
       "      <td>90.0</td>\n",
       "      <td>1</td>\n",
       "      <td>3</td>\n",
       "      <td>2.8</td>\n",
       "      <td>1</td>\n",
       "      <td>0</td>\n",
       "      <td>0</td>\n",
       "      <td>...</td>\n",
       "      <td>0</td>\n",
       "      <td>0</td>\n",
       "      <td>0</td>\n",
       "      <td>0</td>\n",
       "      <td>0</td>\n",
       "      <td>0</td>\n",
       "      <td>0</td>\n",
       "      <td>0</td>\n",
       "      <td>1</td>\n",
       "      <td>0</td>\n",
       "    </tr>\n",
       "    <tr>\n",
       "      <th>3</th>\n",
       "      <td>4548</td>\n",
       "      <td>14</td>\n",
       "      <td>2</td>\n",
       "      <td>53.0</td>\n",
       "      <td>1</td>\n",
       "      <td>5</td>\n",
       "      <td>3.0</td>\n",
       "      <td>0</td>\n",
       "      <td>1</td>\n",
       "      <td>0</td>\n",
       "      <td>...</td>\n",
       "      <td>0</td>\n",
       "      <td>0</td>\n",
       "      <td>0</td>\n",
       "      <td>0</td>\n",
       "      <td>0</td>\n",
       "      <td>0</td>\n",
       "      <td>1</td>\n",
       "      <td>0</td>\n",
       "      <td>0</td>\n",
       "      <td>0</td>\n",
       "    </tr>\n",
       "    <tr>\n",
       "      <th>4</th>\n",
       "      <td>2982</td>\n",
       "      <td>12</td>\n",
       "      <td>2</td>\n",
       "      <td>47.0</td>\n",
       "      <td>1</td>\n",
       "      <td>3</td>\n",
       "      <td>2.8</td>\n",
       "      <td>0</td>\n",
       "      <td>1</td>\n",
       "      <td>0</td>\n",
       "      <td>...</td>\n",
       "      <td>0</td>\n",
       "      <td>0</td>\n",
       "      <td>0</td>\n",
       "      <td>0</td>\n",
       "      <td>0</td>\n",
       "      <td>0</td>\n",
       "      <td>0</td>\n",
       "      <td>0</td>\n",
       "      <td>1</td>\n",
       "      <td>0</td>\n",
       "    </tr>\n",
       "  </tbody>\n",
       "</table>\n",
       "<p>5 rows × 5363 columns</p>\n",
       "</div>"
      ],
      "text/plain": [
       "   Unnamed: 0  max_floor  num_rooms  area  num_bathrooms  floor  \\\n",
       "0        5546          4          3  96.0              1      3   \n",
       "1        2979          5          3  78.0              1      2   \n",
       "2        2698         10          3  90.0              1      3   \n",
       "3        4548         14          2  53.0              1      5   \n",
       "4        2982         12          2  47.0              1      3   \n",
       "\n",
       "   ceiling_height  condition_good  condition_newly repaired  \\\n",
       "0             3.2               0                         1   \n",
       "1             2.8               1                         0   \n",
       "2             2.8               1                         0   \n",
       "3             3.0               0                         1   \n",
       "4             2.8               0                         1   \n",
       "\n",
       "   condition_zero condition  ...  \\\n",
       "0                         0  ...   \n",
       "1                         0  ...   \n",
       "2                         0  ...   \n",
       "3                         0  ...   \n",
       "4                         0  ...   \n",
       "\n",
       "   url_http://www.myrealty.am/en/item/98/2-senyakanoc-bnakaran-vacharq-Yerevan-Arabkir  \\\n",
       "0                                                  0                                     \n",
       "1                                                  0                                     \n",
       "2                                                  0                                     \n",
       "3                                                  0                                     \n",
       "4                                                  0                                     \n",
       "\n",
       "   url_http://www.myrealty.am/en/item/99/2-senyakanoc-bnakaran-vacharq-Yerevan-Center  \\\n",
       "0                                                  0                                    \n",
       "1                                                  0                                    \n",
       "2                                                  0                                    \n",
       "3                                                  0                                    \n",
       "4                                                  0                                    \n",
       "\n",
       "   url_http://www.myrealty.am/en/item/9923/2-senyakanoc-bnakaran-vacharq-Yerevan-Center  \\\n",
       "0                                                  0                                      \n",
       "1                                                  0                                      \n",
       "2                                                  0                                      \n",
       "3                                                  0                                      \n",
       "4                                                  0                                      \n",
       "\n",
       "   url_http://www.myrealty.am/en/item/9934/apartment-for-sale-in-Yerevan  \\\n",
       "0                                                  0                       \n",
       "1                                                  0                       \n",
       "2                                                  0                       \n",
       "3                                                  0                       \n",
       "4                                                  0                       \n",
       "\n",
       "   url_http://www.myrealty.am/en/item/9937/2-senyakanoc-bnakaran-vacharq-Yerevan-Arabkir  \\\n",
       "0                                                  0                                       \n",
       "1                                                  0                                       \n",
       "2                                                  0                                       \n",
       "3                                                  0                                       \n",
       "4                                                  0                                       \n",
       "\n",
       "   url_http://www.myrealty.am/en/item/9953/apartment-for-sale-in-Yerevan  \\\n",
       "0                                                  0                       \n",
       "1                                                  0                       \n",
       "2                                                  0                       \n",
       "3                                                  0                       \n",
       "4                                                  0                       \n",
       "\n",
       "   building_type_monolit  building_type_other  building_type_panel  \\\n",
       "0                      0                    0                    0   \n",
       "1                      0                    0                    0   \n",
       "2                      0                    0                    1   \n",
       "3                      1                    0                    0   \n",
       "4                      0                    0                    1   \n",
       "\n",
       "   building_type_stone  \n",
       "0                    1  \n",
       "1                    1  \n",
       "2                    0  \n",
       "3                    0  \n",
       "4                    0  \n",
       "\n",
       "[5 rows x 5363 columns]"
      ]
     },
     "execution_count": 52,
     "metadata": {},
     "output_type": "execute_result"
    }
   ],
   "source": [
    "data_one_hot_encoding.head()\n"
   ]
  },
  {
   "cell_type": "code",
   "execution_count": 53,
   "metadata": {},
   "outputs": [
    {
     "name": "stdout",
     "output_type": "stream",
     "text": [
      "4000 4000 1000 1000\n"
     ]
    }
   ],
   "source": [
    "trainX,testX,trainY,testY=train_test_split(data_one_hot_encoding,target,test_size=0.2,random_state=1)\n",
    "print(len(trainX),len(trainY),len(testX),len(testY))"
   ]
  },
  {
   "cell_type": "code",
   "execution_count": 57,
   "metadata": {},
   "outputs": [
    {
     "data": {
      "text/plain": [
       "LinearRegression(copy_X=True, fit_intercept=True, n_jobs=None, normalize=False)"
      ]
     },
     "execution_count": 57,
     "metadata": {},
     "output_type": "execute_result"
    }
   ],
   "source": [
    "regr.fit(trainX,trainY)"
   ]
  },
  {
   "cell_type": "code",
   "execution_count": 58,
   "metadata": {},
   "outputs": [
    {
     "name": "stdout",
     "output_type": "stream",
     "text": [
      "Test RSME after one hot encoding 22486.00434540876\n",
      "Train RMSE after one hot encoding 8.342734298942872e-08\n"
     ]
    }
   ],
   "source": [
    "print('Test RSME after one hot encoding',np.sqrt(mean_squared_error(regr.predict(testX),testY)))\n",
    "print('Train RMSE after one hot encoding', np.sqrt(mean_squared_error(regr.predict(trainX), trainY)))"
   ]
  },
  {
   "cell_type": "code",
   "execution_count": 59,
   "metadata": {},
   "outputs": [
    {
     "data": {
      "text/plain": [
       "(array([-2.49181351e-01,  4.23797230e+02, -2.47941360e+03, ...,\n",
       "         2.00678901e+03, -9.99829435e+03, -3.35137959e+03]),\n",
       " -75322.2353523129)"
      ]
     },
     "execution_count": 59,
     "metadata": {},
     "output_type": "execute_result"
    }
   ],
   "source": [
    "regr.coef_, regr.intercept_"
   ]
  },
  {
   "cell_type": "markdown",
   "metadata": {},
   "source": [
    "## Using Ridge Regularization"
   ]
  },
  {
   "cell_type": "code",
   "execution_count": 61,
   "metadata": {},
   "outputs": [],
   "source": [
    "from sklearn.linear_model import Ridge"
   ]
  },
  {
   "cell_type": "code",
   "execution_count": 68,
   "metadata": {},
   "outputs": [
    {
     "data": {
      "text/plain": [
       "Ridge(alpha=10, copy_X=True, fit_intercept=True, max_iter=None, normalize=False,\n",
       "      random_state=1, solver='auto', tol=0.001)"
      ]
     },
     "execution_count": 68,
     "metadata": {},
     "output_type": "execute_result"
    }
   ],
   "source": [
    "rr=Ridge(alpha=10,random_state=1)\n",
    "rr.fit(xTrain,yTrain)"
   ]
  },
  {
   "cell_type": "code",
   "execution_count": 69,
   "metadata": {},
   "outputs": [
    {
     "name": "stdout",
     "output_type": "stream",
     "text": [
      "Test RMSE after ridge reg 36162.85093519074\n",
      "Train RMSE after ridge reg 36853.85876539976\n"
     ]
    }
   ],
   "source": [
    "print(\"Test RMSE after ridge reg\",np.sqrt(mean_squared_error(rr.predict(xTest),yTest)))\n",
    "print(\"Train RMSE after ridge reg\",np.sqrt(mean_squared_error(rr.predict(xTrain),yTrain)))"
   ]
  },
  {
   "cell_type": "code",
   "execution_count": 75,
   "metadata": {},
   "outputs": [
    {
     "data": {
      "text/plain": [
       "Ridge(alpha=50, copy_X=True, fit_intercept=True, max_iter=None, normalize=False,\n",
       "      random_state=1, solver='auto', tol=0.001)"
      ]
     },
     "execution_count": 75,
     "metadata": {},
     "output_type": "execute_result"
    }
   ],
   "source": [
    "rr=Ridge(alpha=50,random_state=1)\n",
    "rr.fit(xTrain,yTrain)"
   ]
  },
  {
   "cell_type": "code",
   "execution_count": 76,
   "metadata": {},
   "outputs": [
    {
     "name": "stdout",
     "output_type": "stream",
     "text": [
      "Test RMSE after ridge reg 36324.49027955345\n",
      "Train RMSE after ridge reg 37080.597837017114\n"
     ]
    }
   ],
   "source": [
    "print(\"Test RMSE after ridge reg\",np.sqrt(mean_squared_error(rr.predict(xTest),yTest)))\n",
    "print(\"Train RMSE after ridge reg\",np.sqrt(mean_squared_error(rr.predict(xTrain),yTrain)))"
   ]
  },
  {
   "cell_type": "code",
   "execution_count": 86,
   "metadata": {},
   "outputs": [
    {
     "data": {
      "text/plain": [
       "array([ 9.17775603e-02, -2.49924362e+02, -1.29203881e+04,  1.43265753e+03,\n",
       "        1.83790953e+04,  1.04645187e+02,  3.54543431e+04])"
      ]
     },
     "execution_count": 86,
     "metadata": {},
     "output_type": "execute_result"
    }
   ],
   "source": [
    "rr=Ridge(alpha=100,random_state=1)\n",
    "rr.fit(xTrain,yTrain)\n",
    "rr.coef_"
   ]
  },
  {
   "cell_type": "code",
   "execution_count": 87,
   "metadata": {},
   "outputs": [
    {
     "name": "stdout",
     "output_type": "stream",
     "text": [
      "Test RMSE after ridge reg 36569.204833800504\n",
      "Train RMSE after ridge reg 37354.74617982128\n"
     ]
    }
   ],
   "source": [
    "print(\"Test RMSE after ridge reg\",np.sqrt(mean_squared_error(rr.predict(xTest),yTest)))\n",
    "print(\"Train RMSE after ridge reg\",np.sqrt(mean_squared_error(rr.predict(xTrain),yTrain)))\n"
   ]
  },
  {
   "cell_type": "code",
   "execution_count": null,
   "metadata": {},
   "outputs": [],
   "source": []
  },
  {
   "cell_type": "code",
   "execution_count": 84,
   "metadata": {},
   "outputs": [],
   "source": [
    "## Using Ridge reg with one hot encoding"
   ]
  },
  {
   "cell_type": "code",
   "execution_count": 90,
   "metadata": {},
   "outputs": [
    {
     "data": {
      "text/plain": [
       "array([-1.27551842e-01,  1.41271821e+02, -5.31443195e+03, ...,\n",
       "        1.20342825e+03, -1.15773963e+04, -1.10480104e+03])"
      ]
     },
     "execution_count": 90,
     "metadata": {},
     "output_type": "execute_result"
    }
   ],
   "source": [
    "rr=Ridge(alpha=100,random_state=1)\n",
    "rr.fit(trainX,trainY)\n",
    "rr.coef_"
   ]
  },
  {
   "cell_type": "code",
   "execution_count": 82,
   "metadata": {},
   "outputs": [
    {
     "name": "stdout",
     "output_type": "stream",
     "text": [
      "Test RMSE after ridge reg 26908.400877550055\n",
      "Train RMSE after ridge reg 26970.010907556254\n"
     ]
    }
   ],
   "source": [
    "print(\"Test RMSE after ridge reg\",np.sqrt(mean_squared_error(rr.predict(testX),testY)))\n",
    "print(\"Train RMSE after ridge reg\",np.sqrt(mean_squared_error(rr.predict(trainX),trainY)))"
   ]
  },
  {
   "cell_type": "markdown",
   "metadata": {},
   "source": [
    "## Using Lasso regularization"
   ]
  },
  {
   "cell_type": "code",
   "execution_count": 91,
   "metadata": {},
   "outputs": [],
   "source": [
    "from sklearn.linear_model import Lasso"
   ]
  },
  {
   "cell_type": "code",
   "execution_count": 101,
   "metadata": {},
   "outputs": [],
   "source": [
    "lr=Lasso(alpha=10,random_state=1)"
   ]
  },
  {
   "cell_type": "code",
   "execution_count": 102,
   "metadata": {},
   "outputs": [
    {
     "data": {
      "text/plain": [
       "Lasso(alpha=10, copy_X=True, fit_intercept=True, max_iter=1000, normalize=False,\n",
       "      positive=False, precompute=False, random_state=1, selection='cyclic',\n",
       "      tol=0.0001, warm_start=False)"
      ]
     },
     "execution_count": 102,
     "metadata": {},
     "output_type": "execute_result"
    }
   ],
   "source": [
    "\n",
    "lr.fit(xTrain,yTrain)"
   ]
  },
  {
   "cell_type": "code",
   "execution_count": 103,
   "metadata": {},
   "outputs": [
    {
     "name": "stdout",
     "output_type": "stream",
     "text": [
      "Test RMSE after lasso reg 36168.93362464281\n",
      "Train RMSE after lasso reg 36833.250806292934\n"
     ]
    }
   ],
   "source": [
    "print(\"Test RMSE after lasso reg\",np.sqrt(mean_squared_error(lr.predict(xTest),yTest)))\n",
    "print(\"Train RMSE after lasso reg\",np.sqrt(mean_squared_error(lr.predict(xTrain),yTrain)))"
   ]
  },
  {
   "cell_type": "code",
   "execution_count": 110,
   "metadata": {},
   "outputs": [
    {
     "data": {
      "text/plain": [
       "Lasso(alpha=100, copy_X=True, fit_intercept=True, max_iter=1000,\n",
       "      normalize=False, positive=False, precompute=False, random_state=1,\n",
       "      selection='cyclic', tol=0.0001, warm_start=False)"
      ]
     },
     "execution_count": 110,
     "metadata": {},
     "output_type": "execute_result"
    }
   ],
   "source": [
    "lr=Lasso(alpha=100,random_state=1)\n",
    "lr.fit(xTrain,yTrain)"
   ]
  },
  {
   "cell_type": "code",
   "execution_count": 112,
   "metadata": {},
   "outputs": [
    {
     "name": "stdout",
     "output_type": "stream",
     "text": [
      "Test RMSE after lasso reg 36181.79280139541\n",
      "Train RMSE after lasso reg 36840.30922255961\n"
     ]
    }
   ],
   "source": [
    "print(\"Test RMSE after lasso reg\",np.sqrt(mean_squared_error(lr.predict(xTest),yTest)))\n",
    "print(\"Train RMSE after lasso reg\",np.sqrt(mean_squared_error(lr.predict(xTrain),yTrain)))"
   ]
  },
  {
   "cell_type": "code",
   "execution_count": null,
   "metadata": {},
   "outputs": [],
   "source": [
    "## ## Using Lasso reg with one hot encoding"
   ]
  },
  {
   "cell_type": "code",
   "execution_count": null,
   "metadata": {},
   "outputs": [],
   "source": [
    "lr=Lasso(alpha=100,random_state=1)\n",
    "lr.fit(trainX,trainY)"
   ]
  },
  {
   "cell_type": "code",
   "execution_count": 113,
   "metadata": {},
   "outputs": [
    {
     "name": "stdout",
     "output_type": "stream",
     "text": [
      "Test RMSE after lasso reg 26908.400877550055\n",
      "Train RMSE after lasso reg 26970.010907556254\n"
     ]
    }
   ],
   "source": [
    "print(\"Test RMSE after lasso reg\",np.sqrt(mean_squared_error(rr.predict(testX),testY)))\n",
    "print(\"Train RMSE after lasso reg\",np.sqrt(mean_squared_error(rr.predict(trainX),trainY)))"
   ]
  },
  {
   "cell_type": "markdown",
   "metadata": {},
   "source": [
    "### After using \"one hot encoding\" Lasso and Ridge reg results are the same"
   ]
  },
  {
   "cell_type": "markdown",
   "metadata": {},
   "source": [
    "Test RMSE after lasso reg 26908.400877550055\n",
    "Train RMSE after lasso reg 26970.010907556254"
   ]
  },
  {
   "cell_type": "markdown",
   "metadata": {},
   "source": [
    "Test RMSE after ridge reg 26908.400877550055\n",
    "Train RMSE after ridge reg 26970.010907556254"
   ]
  }
 ],
 "metadata": {
  "kernelspec": {
   "display_name": "Python 3",
   "language": "python",
   "name": "python3"
  },
  "language_info": {
   "codemirror_mode": {
    "name": "ipython",
    "version": 3
   },
   "file_extension": ".py",
   "mimetype": "text/x-python",
   "name": "python",
   "nbconvert_exporter": "python",
   "pygments_lexer": "ipython3",
   "version": "3.7.6"
  }
 },
 "nbformat": 4,
 "nbformat_minor": 4
}
