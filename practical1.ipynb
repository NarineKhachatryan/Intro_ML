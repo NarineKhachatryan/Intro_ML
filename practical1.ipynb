{
 "cells": [
  {
   "cell_type": "code",
   "execution_count": 2,
   "metadata": {},
   "outputs": [
    {
     "name": "stdout",
     "output_type": "stream",
     "text": [
      "['hello', 1, True]\n",
      "namenar\n",
      "['hello', 1, True, 'nar']\n"
     ]
    }
   ],
   "source": [
    "list=[\"hello\",1,True]\n",
    "print (list)\n",
    "x=input(\"name\")\n",
    "list.append(x)\n",
    "print(list)"
   ]
  },
  {
   "cell_type": "markdown",
   "metadata": {},
   "source": [
    "# P2"
   ]
  },
  {
   "cell_type": "code",
   "execution_count": 38,
   "metadata": {},
   "outputs": [
    {
     "name": "stdout",
     "output_type": "stream",
     "text": [
      "[1, 7, 9, 6, 4, 2, 3, 7, 9]\n",
      "[7, 9, 6, 3, 7, 9]\n"
     ]
    }
   ],
   "source": [
    "list2=[1,7,9,6,4,2,3,7,9]\n",
    "print(list2)\n",
    "del (list2[0],list2[-5],list2[-4])\n",
    "print (list2)"
   ]
  },
  {
   "cell_type": "markdown",
   "metadata": {},
   "source": [
    "# P3"
   ]
  },
  {
   "cell_type": "code",
   "execution_count": 16,
   "metadata": {},
   "outputs": [
    {
     "name": "stdout",
     "output_type": "stream",
     "text": [
      "5\n",
      "True\n"
     ]
    }
   ],
   "source": [
    "set3={1,5,3,9,7}\n",
    "MAX=max(set3)\n",
    "MIN=min(set3)\n",
    "x=int(input())\n",
    "if MIN<x<MAX :\n",
    "    print (True)\n",
    "else:\n",
    "    print (False)\n",
    "     \n"
   ]
  },
  {
   "cell_type": "markdown",
   "metadata": {},
   "source": [
    "# P4"
   ]
  },
  {
   "cell_type": "code",
   "execution_count": 25,
   "metadata": {},
   "outputs": [
    {
     "name": "stdout",
     "output_type": "stream",
     "text": [
      "{1: 'a', 2: 'b', 3: 'c'}\n",
      "5\n",
      "6\n",
      "{1: 'a', 2: 'b', 3: 'c', '5': '6'}\n"
     ]
    }
   ],
   "source": [
    "dict1={1:\"a\",2:\"b\",3:\"c\"}\n",
    "print(dict1)\n",
    "key=str(input())\n",
    "value=str(input())\n",
    "dict1.update({key:value})\n",
    "print (dict1)\n",
    "\n",
    "\n"
   ]
  },
  {
   "cell_type": "markdown",
   "metadata": {},
   "source": [
    "# P5"
   ]
  },
  {
   "cell_type": "code",
   "execution_count": 2,
   "metadata": {},
   "outputs": [
    {
     "name": "stdout",
     "output_type": "stream",
     "text": [
      "rectangle\n"
     ]
    }
   ],
   "source": [
    "a=5\n",
    "b=4\n",
    "if a == b:\n",
    "    print(\"square\")\n",
    "else:\n",
    "    print(\"rectangle\")"
   ]
  },
  {
   "cell_type": "markdown",
   "metadata": {},
   "source": [
    "# P6"
   ]
  },
  {
   "cell_type": "code",
   "execution_count": 18,
   "metadata": {},
   "outputs": [
    {
     "name": "stdout",
     "output_type": "stream",
     "text": [
      "Welcome Mr.Batmen!\n",
      "Please enter a different password\n"
     ]
    }
   ],
   "source": [
    "name=\"Batmen\"\n",
    "age=25\n",
    "password=str(12346)\n",
    "x=password.find(\"*\")\n",
    "y=password.find(\"&\")\n",
    "if name == \"Batmen\":\n",
    "     print (\"Welcome Mr.Batmen!\")\n",
    "if age < 16:\n",
    "    print(\"Dear %s ,you are to young to register.\" % name)\n",
    "else:\n",
    "    if x==-1 or y==-1:\n",
    "        print (\"Please enter a different password\")\n",
    "\n",
    " \n",
    "\n"
   ]
  },
  {
   "cell_type": "markdown",
   "metadata": {},
   "source": [
    "# P7"
   ]
  },
  {
   "cell_type": "code",
   "execution_count": 26,
   "metadata": {},
   "outputs": [
    {
     "name": "stdout",
     "output_type": "stream",
     "text": [
      "range(0, 101)\n",
      "[0, 1, 2, 3, 4, 5, 6, 7, 8, 9, 10, 11, 12, 13, 14, 15, 16, 17, 18, 19, 20, 21, 22, 23, 24, 25, 26, 27, 28, 29, 30, 31, 32, 33, 34, 35, 36, 37, 38, 39, 40, 41, 42, 43, 44, 45, 46, 47, 48, 49, 50, 51, 52, 53, 54, 55, 56, 57, 58, 59, 60, 61, 62, 63, 64, 65, 66, 67, 68, 69, 70, 71, 72, 73, 74, 75, 76, 77, 78, 79, 80, 81, 82, 83, 84, 85, 86, 87, 88, 89, 90, 91, 92, 93, 94, 95, 96, 97, 98, 99, 100]\n",
      "1\n",
      "3\n",
      "5\n",
      "7\n",
      "9\n",
      "11\n",
      "13\n",
      "15\n",
      "17\n",
      "19\n",
      "21\n",
      "23\n",
      "25\n",
      "27\n",
      "29\n",
      "31\n",
      "33\n",
      "35\n",
      "37\n",
      "39\n",
      "41\n",
      "43\n",
      "45\n",
      "47\n",
      "49\n",
      "51\n",
      "53\n",
      "55\n",
      "57\n",
      "59\n",
      "61\n",
      "63\n",
      "65\n",
      "67\n",
      "69\n",
      "71\n",
      "73\n",
      "75\n",
      "77\n",
      "79\n",
      "81\n",
      "83\n",
      "85\n",
      "87\n",
      "89\n",
      "91\n",
      "93\n",
      "95\n",
      "97\n",
      "99\n"
     ]
    }
   ],
   "source": [
    "list5=range(101)\n",
    "print (list5)\n",
    "print (list(list5))\n",
    "for i in list5:\n",
    "    if i%2==1:\n",
    "        print (i)\n",
    "        i=i+1"
   ]
  },
  {
   "cell_type": "markdown",
   "metadata": {},
   "source": [
    "# P8"
   ]
  },
  {
   "cell_type": "code",
   "execution_count": 3,
   "metadata": {},
   "outputs": [
    {
     "name": "stdout",
     "output_type": "stream",
     "text": [
      "1\n",
      "2\n",
      "3\n",
      "4\n",
      "5\n",
      "6\n",
      "7\n",
      "8\n",
      "9\n",
      "10\n",
      "11\n",
      "12\n",
      "13\n",
      "14\n",
      "15\n"
     ]
    }
   ],
   "source": [
    "list8=range(1,21)\n",
    "for i in list8:\n",
    "    print (i)\n",
    "    if i%3==0 and i%5==0:\n",
    "                    break"
   ]
  },
  {
   "cell_type": "markdown",
   "metadata": {},
   "source": [
    "# P9"
   ]
  },
  {
   "cell_type": "code",
   "execution_count": 6,
   "metadata": {},
   "outputs": [
    {
     "name": "stdout",
     "output_type": "stream",
     "text": [
      "[1, 90, 5, 84, 7, 31, 2, 15]\n",
      "[90, 84, 31]\n"
     ]
    }
   ],
   "source": [
    "list1=[1,90,5,84,7,31,2,15]\n",
    "list2=[i for i in list1 if i > 20]\n",
    "print(list1)\n",
    "print(list2)"
   ]
  }
 ],
 "metadata": {
  "kernelspec": {
   "display_name": "Python 3",
   "language": "python",
   "name": "python3"
  },
  "language_info": {
   "codemirror_mode": {
    "name": "ipython",
    "version": 3
   },
   "file_extension": ".py",
   "mimetype": "text/x-python",
   "name": "python",
   "nbconvert_exporter": "python",
   "pygments_lexer": "ipython3",
   "version": "3.7.6"
  }
 },
 "nbformat": 4,
 "nbformat_minor": 4
}
