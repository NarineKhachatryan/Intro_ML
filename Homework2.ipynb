{
 "cells": [
  {
   "cell_type": "markdown",
   "metadata": {},
   "source": [
    "## H1"
   ]
  },
  {
   "cell_type": "markdown",
   "metadata": {},
   "source": [
    "Create the function my_max which gets an undefined number of non-keyword\n",
    "arguments and returns the maximum of those. In case the function is called without\n",
    "arguments, it should return the text “no numbers given”. Don’t use the in-built functions\n",
    "for calculating the maximum value."
   ]
  },
  {
   "cell_type": "code",
   "execution_count": 1,
   "metadata": {},
   "outputs": [],
   "source": [
    "def my_max(*arg):\n",
    "    listarg=list(arg)\n",
    "    maxarg=listarg[0]\n",
    "    if  len(arg)==0:\n",
    "        print(\"no numbers given\")\n",
    "    else:\n",
    "        for i in listarg:\n",
    "            if i > maxarg:\n",
    "                maxarg=i\n",
    "        return maxarg"
   ]
  },
  {
   "cell_type": "code",
   "execution_count": 2,
   "metadata": {},
   "outputs": [
    {
     "data": {
      "text/plain": [
       "-1"
      ]
     },
     "execution_count": 2,
     "metadata": {},
     "output_type": "execute_result"
    }
   ],
   "source": [
    "my_max(-2,-6,-1,-8)"
   ]
  },
  {
   "cell_type": "markdown",
   "metadata": {},
   "source": [
    "## H2"
   ]
  },
  {
   "cell_type": "markdown",
   "metadata": {},
   "source": [
    "Create a function that gets a list as an argument and returns a new list, which contains\n",
    "only the unique values from the original list."
   ]
  },
  {
   "cell_type": "code",
   "execution_count": 72,
   "metadata": {},
   "outputs": [],
   "source": [
    "def func(list1):\n",
    "    list_unique_value=[]\n",
    "    for i in list1:\n",
    "        if i not in list1:\n",
    "            list_unique_value.append(i)\n",
    "    return list_unique_value\n",
    "\n",
    "#ինչն է սխալ?\n",
    "            "
   ]
  },
  {
   "cell_type": "code",
   "execution_count": 73,
   "metadata": {},
   "outputs": [
    {
     "name": "stdout",
     "output_type": "stream",
     "text": [
      "[]\n"
     ]
    }
   ],
   "source": [
    "list5=[2,6,7,2,2]\n",
    "print (func(list5))"
   ]
  },
  {
   "cell_type": "markdown",
   "metadata": {},
   "source": [
    "## or"
   ]
  },
  {
   "cell_type": "code",
   "execution_count": 58,
   "metadata": {},
   "outputs": [],
   "source": [
    "def func_unique(list2):\n",
    "    list3=set(list2)\n",
    "    list4=list(list3)\n",
    "    return list4"
   ]
  },
  {
   "cell_type": "code",
   "execution_count": 59,
   "metadata": {},
   "outputs": [
    {
     "name": "stdout",
     "output_type": "stream",
     "text": [
      "[2, 3, 6]\n"
     ]
    }
   ],
   "source": [
    "list2=[2,6,2,3,2]\n",
    "print (func_unique(list2))"
   ]
  },
  {
   "cell_type": "markdown",
   "metadata": {},
   "source": [
    "## H3"
   ]
  },
  {
   "cell_type": "markdown",
   "metadata": {},
   "source": [
    "Create a function my_fib which takes an integer n as an argument and calculates and\n",
    "returns the n-th fibonacci number. Don’t use recursion.\n",
    "Note: fib(n) = fib(n-1) + fib(n-2)"
   ]
  },
  {
   "cell_type": "code",
   "execution_count": 41,
   "metadata": {},
   "outputs": [],
   "source": [
    "def my_fib(n):\n",
    "    x=0\n",
    "    y=1\n",
    "    z=1\n",
    "    i=1\n",
    "    if n<=0:\n",
    "        print (\"The number is wrong\")\n",
    "    elif n==1:\n",
    "        print(x)\n",
    "    else:\n",
    "        for i in range(3,n+1):\n",
    "                z=x+y\n",
    "                x=y\n",
    "                y=z\n",
    "\n",
    "                \n",
    "        print(z)"
   ]
  },
  {
   "cell_type": "code",
   "execution_count": 42,
   "metadata": {},
   "outputs": [
    {
     "name": "stdout",
     "output_type": "stream",
     "text": [
      "3\n"
     ]
    }
   ],
   "source": [
    "my_fib(5)"
   ]
  },
  {
   "cell_type": "markdown",
   "metadata": {},
   "source": [
    "## H4"
   ]
  },
  {
   "cell_type": "markdown",
   "metadata": {},
   "source": [
    "Create the class Person .\n",
    "Attributes: name , last_name , age , gender, student (this is a boolean attribute i.e.it\n",
    "takes values True/False), as well as a private attribute password\n",
    "Methods:\n",
    "Greeting(self, second_person) - gets an object of type Person as an input and prints\n",
    "“Welcome dear X .”, where X is the value of the name attribute of second_person.\n",
    "Goodbye(self) - prints “Bye everyone!”\n",
    "Favourite_num(self, num1) - gets an integer num1 as an input and returns the text “My\n",
    "favourite number is num1 ”, using the value of the attribute num1 .\n",
    "Read_file(self, filename) - gets a String filename as an input and tries to read the file\n",
    "with the name “ filename. txt ”, adding “.txt” at the end of the value of the attribute\n",
    "filename. Use the function open() to open the file. (try to do this on your own :))\n",
    "Add set and get methods for the attribute password ."
   ]
  },
  {
   "cell_type": "code",
   "execution_count": 44,
   "metadata": {},
   "outputs": [],
   "source": [
    "class Person():\n",
    "    \n",
    "    def __init__(self,name,last_name,age,gender,password,student):\n",
    "        \n",
    "        self.name=name\n",
    "        self.last_name=last_name\n",
    "        self.age=age\n",
    "        self.gender=gender\n",
    "        self.student=student\n",
    "        self.__password=password\n",
    "        \n",
    "    def Greeting(self, second_person):\n",
    "        self.second_person=second_person\n",
    "        print (\"Welcome dear %s\"   % self.second_person)\n",
    "        \n",
    "    def Goodbye(self):\n",
    "        print(\"Bye everyone!\")\n",
    "        \n",
    "    def Favourite_num(self, num1):\n",
    "        self.num1=num1\n",
    "        print(\"My favourite number is %s\" %self.num1)\n",
    "        \n",
    "    def Read_file(self, filename):\n",
    "        self.filename=filename\n",
    "        f=open(\"filename.txt\",\"r\")\n",
    "        print (f.read())\n",
    "        \n",
    "    def get_password(self):\n",
    "         return self.__password\n",
    "        \n",
    "    def set_password(self,password):\n",
    "         self.__password=password\n"
   ]
  },
  {
   "cell_type": "code",
   "execution_count": 46,
   "metadata": {},
   "outputs": [
    {
     "name": "stdout",
     "output_type": "stream",
     "text": [
      "Bye everyone!\n",
      "Welcome dear Jhon\n"
     ]
    },
    {
     "data": {
      "text/plain": [
       "'1234'"
      ]
     },
     "execution_count": 46,
     "metadata": {},
     "output_type": "execute_result"
    }
   ],
   "source": [
    "p1=Person(\"Jhon\",\"Smith\",52,\"male\",\"1234\",False)\n",
    "p1.Goodbye()\n",
    "p1.Greeting(\"Jhon\")\n",
    "p1.get_password()"
   ]
  },
  {
   "cell_type": "markdown",
   "metadata": {},
   "source": [
    "## H5"
   ]
  },
  {
   "cell_type": "markdown",
   "metadata": {},
   "source": [
    "Create a class Calculation.\n",
    "Attributes: x, y\n",
    "Methods: __init__(self, x, y) -> creates the attributes x and y\n",
    "addition(self) -> prints the sum of the arguments x and y\n",
    "subtraction(self) -> prints the difference of the arguments x and y\n",
    "Create a class MyCalculation which inherits from the class Calculation.\n",
    "Attributes: x, y\n",
    "Methods: __init__(self, x, y) -> calls the __init__ method of the Calculation class with\n",
    "parameters x and y\n",
    "multiplication(self) -> prints the product of the arguments x and y\n",
    "division(self) -> prints the quotient of the arguments x and y\n",
    "Create an object of the MyCalculation class with attribute values 3 and 5 and call the\n",
    "methods addition, subtraction, multiplication and division on it."
   ]
  },
  {
   "cell_type": "code",
   "execution_count": 62,
   "metadata": {},
   "outputs": [],
   "source": [
    "class Calculation():\n",
    "    \n",
    "    def __init__(self,x,y):\n",
    "        self.x=x\n",
    "        self.y=y\n",
    "        \n",
    "    def addition(self):\n",
    "        print (self.x+self.y)\n",
    "        \n",
    "    def subtraction(self):\n",
    "        print(self.x-self.y)\n",
    "        \n",
    "class MyCalculation(Calculation):\n",
    "    \n",
    "    def __init__(self,x,y):\n",
    "        Calculation.__init__(self,x,y)\n",
    "        \n",
    "    def multiplication(self):\n",
    "        print(self.x*self.y)\n",
    "        \n",
    "    def division(self):\n",
    "        print(self.x/self.y)\n",
    "        \n",
    "        \n",
    "        \n",
    "        "
   ]
  },
  {
   "cell_type": "code",
   "execution_count": 67,
   "metadata": {},
   "outputs": [
    {
     "name": "stdout",
     "output_type": "stream",
     "text": [
      "3\n",
      "-1\n",
      "15\n",
      "0.6\n",
      "8\n",
      "-2\n"
     ]
    }
   ],
   "source": [
    "c1=Calculation(1,2)\n",
    "c1.addition()\n",
    "c1.subtraction()\n",
    "mc=MyCalculation(3,5)\n",
    "mc.multiplication()\n",
    "mc.division()\n",
    "mc.addition()\n",
    "mc.subtraction()"
   ]
  },
  {
   "cell_type": "markdown",
   "metadata": {},
   "source": [
    "# Finish"
   ]
  }
 ],
 "metadata": {
  "kernelspec": {
   "display_name": "Python 3",
   "language": "python",
   "name": "python3"
  },
  "language_info": {
   "codemirror_mode": {
    "name": "ipython",
    "version": 3
   },
   "file_extension": ".py",
   "mimetype": "text/x-python",
   "name": "python",
   "nbconvert_exporter": "python",
   "pygments_lexer": "ipython3",
   "version": "3.7.6"
  }
 },
 "nbformat": 4,
 "nbformat_minor": 4
}
