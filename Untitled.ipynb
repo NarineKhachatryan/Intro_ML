{
 "cells": [
  {
   "cell_type": "code",
   "execution_count": 32,
   "metadata": {},
   "outputs": [],
   "source": [
    "def unique_list(list1):\n",
    "    unique_list = [1,2]\n",
    "    for i in list1:\n",
    "        if i not in list1:\n",
    "            unique_list.append(i)\n",
    "    return unique_list"
   ]
  },
  {
   "cell_type": "code",
   "execution_count": 33,
   "metadata": {},
   "outputs": [
    {
     "name": "stdout",
     "output_type": "stream",
     "text": [
      "[]\n"
     ]
    }
   ],
   "source": [
    "func([1,1,5,1,6])"
   ]
  },
  {
   "cell_type": "code",
   "execution_count": 34,
   "metadata": {},
   "outputs": [],
   "source": [
    "def unique_list(list1):\n",
    "    unique_list = [1,2]\n",
    "    return unique_list"
   ]
  },
  {
   "cell_type": "code",
   "execution_count": 25,
   "metadata": {},
   "outputs": [
    {
     "name": "stdout",
     "output_type": "stream",
     "text": [
      "[1, 2]\n"
     ]
    }
   ],
   "source": [
    "print (unique_list([2,3]))"
   ]
  },
  {
   "cell_type": "code",
   "execution_count": 10,
   "metadata": {},
   "outputs": [],
   "source": [
    "import math\n",
    "a=3\n",
    "b=4\n",
    "c=(a**2+b**2)**0.5"
   ]
  },
  {
   "cell_type": "code",
   "execution_count": 11,
   "metadata": {},
   "outputs": [
    {
     "data": {
      "text/plain": [
       "5.0"
      ]
     },
     "execution_count": 11,
     "metadata": {},
     "output_type": "execute_result"
    }
   ],
   "source": [
    "c"
   ]
  },
  {
   "cell_type": "code",
   "execution_count": 14,
   "metadata": {},
   "outputs": [],
   "source": [
    "import math\n",
    "a=3\n",
    "b=4\n",
    "c=math.sqrt(a**2+b**2)"
   ]
  },
  {
   "cell_type": "code",
   "execution_count": 15,
   "metadata": {},
   "outputs": [
    {
     "data": {
      "text/plain": [
       "5.0"
      ]
     },
     "execution_count": 15,
     "metadata": {},
     "output_type": "execute_result"
    }
   ],
   "source": [
    "c"
   ]
  },
  {
   "cell_type": "code",
   "execution_count": 26,
   "metadata": {},
   "outputs": [],
   "source": [
    "project=\"cake\"\n",
    "difficulty=5\n",
    "ingredients=[\"flour\",\"butter\", \"sugar\", \"eggs\", \"cocoa powder\", \"baking powder\"]\n",
    "if \"apple\" and \"suggar\" in ingredients:\n",
    "        print (\"apple\",\"suggar\")"
   ]
  },
  {
   "cell_type": "code",
   "execution_count": 30,
   "metadata": {},
   "outputs": [
    {
     "name": "stdout",
     "output_type": "stream",
     "text": [
      "852.0\n"
     ]
    }
   ],
   "source": [
    "import math\n",
    "a=15\n",
    "b=8\n",
    "c=2\n",
    "d=(math.pow(b,3)+3*a*b-10*c)\n",
    "print (d)"
   ]
  },
  {
   "cell_type": "code",
   "execution_count": 31,
   "metadata": {},
   "outputs": [
    {
     "name": "stdout",
     "output_type": "stream",
     "text": [
      "Help on built-in function pow in module math:\n",
      "\n",
      "pow(x, y, /)\n",
      "    Return x**y (x to the power of y).\n",
      "\n"
     ]
    }
   ],
   "source": [
    "help(math.pow)"
   ]
  },
  {
   "cell_type": "code",
   "execution_count": 32,
   "metadata": {},
   "outputs": [
    {
     "name": "stdout",
     "output_type": "stream",
     "text": [
      "852\n"
     ]
    }
   ],
   "source": [
    "print(b**3+3*a*b-10*c)"
   ]
  },
  {
   "cell_type": "code",
   "execution_count": 42,
   "metadata": {},
   "outputs": [
    {
     "name": "stdout",
     "output_type": "stream",
     "text": [
      "input your name: \n",
      "nar\n",
      "Name: your nar variable value\n"
     ]
    }
   ],
   "source": [
    "name=input(\"input your name: \\n\" )\n",
    "#last_name=input()\n",
    "print(\"Name: your %s variable value\" %name)"
   ]
  },
  {
   "cell_type": "code",
   "execution_count": 8,
   "metadata": {},
   "outputs": [
    {
     "name": "stdout",
     "output_type": "stream",
     "text": [
      "mmmm\n"
     ]
    },
    {
     "data": {
      "text/plain": [
       "'MMMM'"
      ]
     },
     "execution_count": 8,
     "metadata": {},
     "output_type": "execute_result"
    }
   ],
   "source": [
    "text=input()\n",
    "text.upper()\n"
   ]
  },
  {
   "cell_type": "code",
   "execution_count": null,
   "metadata": {},
   "outputs": [],
   "source": []
  },
  {
   "cell_type": "code",
   "execution_count": 6,
   "metadata": {},
   "outputs": [
    {
     "name": "stdout",
     "output_type": "stream",
     "text": [
      "mmm\n"
     ]
    },
    {
     "data": {
      "text/plain": [
       "'MMM'"
      ]
     },
     "execution_count": 6,
     "metadata": {},
     "output_type": "execute_result"
    }
   ],
   "source": [
    "a=input()\n",
    "a.upper()"
   ]
  },
  {
   "cell_type": "code",
   "execution_count": 20,
   "metadata": {},
   "outputs": [],
   "source": [
    "class my_func():\n",
    "    def __init__(self,my_str):\n",
    "        self.my_str=my_str\n",
    "    \n",
    "    def get_String(self):\n",
    "        return (self.my_str)\n",
    "    def print_String(self):\n",
    "        print(self.my_str.upper())"
   ]
  },
  {
   "cell_type": "code",
   "execution_count": 21,
   "metadata": {},
   "outputs": [],
   "source": [
    "a=my_func(\"nar\")"
   ]
  },
  {
   "cell_type": "code",
   "execution_count": 24,
   "metadata": {},
   "outputs": [
    {
     "name": "stdout",
     "output_type": "stream",
     "text": [
      "nar\n"
     ]
    }
   ],
   "source": [
    "print(a.get_String())"
   ]
  },
  {
   "cell_type": "code",
   "execution_count": 23,
   "metadata": {},
   "outputs": [
    {
     "name": "stdout",
     "output_type": "stream",
     "text": [
      "NAR\n"
     ]
    }
   ],
   "source": [
    "a.print_String()"
   ]
  },
  {
   "cell_type": "markdown",
   "metadata": {},
   "source": [
    "5. Ստեղծեք Police_car class-ը, որն ունի հետեւյալ attribute-ները՝ owner, price եւ private\n",
    "attribute pass_code։ Ստեղծեք class attribute tax_value, որի արժեքն է 0.2: Ստեղծեք\n",
    "tax(self) մեթոդը, որը հաշվում ու վերադարձնում է տվյալ մեքենայի համար վճարվելիք\n",
    "հարկը՝ tax_value * price։ Ստեղծեք greating(self) մեթոդը, որը կտպի “Welcome to your car,\n",
    "OWNER” OWNER-ի փոխարեն օգտագործելով owner փոփոխականի արժեքը, եթե\n",
    "pass_code փոփոխականի արժեքը “admin” է։\n",
    "(OPTIONAL) Ավելացրեք set եւ get ֆունկցիաներ pass_code private փոփոխականի համար։"
   ]
  },
  {
   "cell_type": "code",
   "execution_count": 70,
   "metadata": {},
   "outputs": [],
   "source": [
    "class Police_car():\n",
    "    tax_value=0.2\n",
    "    def __init__(self,owner,price,pass_code):\n",
    "        self.owner=owner\n",
    "        self.price=price\n",
    "        self.__pass_code=pass_code\n",
    "        \n",
    "    def tax(self):\n",
    "        return (Police_car.tax_value*self.price)\n",
    "    \n",
    "    def get_pass_code(self):\n",
    "         return self.__pass_code\n",
    "        \n",
    "    def set_pass_code(self,pass_code):\n",
    "         self.__pass_code=pass_code\n",
    "    \n",
    "    def greating(self):\n",
    "        if self.__pass_code==\"admin\":\n",
    "            print(\"Welcome to your car, %s\" %self.owner )\n",
    "            "
   ]
  },
  {
   "cell_type": "code",
   "execution_count": 73,
   "metadata": {},
   "outputs": [
    {
     "name": "stdout",
     "output_type": "stream",
     "text": [
      "0.4\n"
     ]
    }
   ],
   "source": [
    "a=Police_car(\"nar\",2,\"admin\")\n",
    "print(a.tax())\n",
    "a.get_pass_code()\n",
    "a.set_pass_code(\"aaa\")\n",
    "a.greating()"
   ]
  },
  {
   "cell_type": "code",
   "execution_count": null,
   "metadata": {},
   "outputs": [],
   "source": []
  },
  {
   "cell_type": "code",
   "execution_count": null,
   "metadata": {},
   "outputs": [],
   "source": []
  }
 ],
 "metadata": {
  "kernelspec": {
   "display_name": "Python 3",
   "language": "python",
   "name": "python3"
  },
  "language_info": {
   "codemirror_mode": {
    "name": "ipython",
    "version": 3
   },
   "file_extension": ".py",
   "mimetype": "text/x-python",
   "name": "python",
   "nbconvert_exporter": "python",
   "pygments_lexer": "ipython3",
   "version": "3.7.6"
  }
 },
 "nbformat": 4,
 "nbformat_minor": 4
}
