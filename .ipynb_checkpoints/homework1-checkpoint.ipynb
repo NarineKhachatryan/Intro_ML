{
 "cells": [
  {
   "cell_type": "markdown",
   "metadata": {},
   "source": [
    "## H1"
   ]
  },
  {
   "cell_type": "code",
   "execution_count": 2,
   "metadata": {},
   "outputs": [
    {
     "name": "stdout",
     "output_type": "stream",
     "text": [
      "[1, 9, 15, 67, 85, 9, 5, 15]\n",
      "15\n",
      "Number of 15s = 2\n"
     ]
    }
   ],
   "source": [
    "list1=[1,9,15,67,85,9,5,15]\n",
    "print(list1)\n",
    "x=int(input())\n",
    "total=list1.count(x)\n",
    "\n",
    "print(\"Number of %ss = %s\" %(x,total))"
   ]
  },
  {
   "cell_type": "markdown",
   "metadata": {},
   "source": [
    "## or"
   ]
  },
  {
   "cell_type": "code",
   "execution_count": 2,
   "metadata": {},
   "outputs": [
    {
     "name": "stdout",
     "output_type": "stream",
     "text": [
      "[1, 9, 15, 67, 85, 5, 9, 15]\n",
      "9\n",
      "Number of 9s = 2\n"
     ]
    }
   ],
   "source": [
    "list1=[1,9,15,67,85,5,9,15]\n",
    "print(list1)\n",
    "x=int(input())\n",
    "total=0\n",
    "for i in list1:\n",
    "        if i==x:\n",
    "            total=total+1\n",
    "        \n",
    "\n",
    "print(\"Number of %ss = %s\" %(x,total))\n"
   ]
  },
  {
   "cell_type": "markdown",
   "metadata": {},
   "source": [
    "## H2"
   ]
  },
  {
   "cell_type": "code",
   "execution_count": 4,
   "metadata": {
    "scrolled": true
   },
   "outputs": [
    {
     "name": "stdout",
     "output_type": "stream",
     "text": [
      "[1, 6, 7, 8, 'hello', 54, 'hi']\n",
      "(1, 6, 7, 8, 'nar', 54, 'hi')\n",
      "(1, 6, 7, 8, 'hello', 54, 'hi')\n"
     ]
    }
   ],
   "source": [
    "t2=(1,6,7,8,\"nar\",54,\"hi\")\n",
    "t2list=list(t2)\n",
    "t2list[4]=\"hello\"\n",
    "print (t2list)\n",
    "t3=tuple(t2list)\n",
    "print(t2)\n",
    "print(t3)"
   ]
  },
  {
   "cell_type": "markdown",
   "metadata": {},
   "source": [
    "## H3"
   ]
  },
  {
   "cell_type": "markdown",
   "metadata": {},
   "source": [
    "Ստեղծեք d dictionary-ն ու դրան վերագրեք հետևյալ արժեքը {“name”: “Armen”, “age”:\n",
    "15, “grades”: [10, 8, 8, 4, 6, 7] }. Գրեք հետևյալ ծրագիրը՝\n",
    "Եթե “weight”-ը չկա d -ի key-երի մեջ => ապա user-ից ստանում ենք input որևէ n թիվ ու\n",
    "այդ արժեքը գրում ենք որպես d -ի “weight” key-ին համապատասխան արժեք,\n",
    "հակառակ դեպքում տպում ենք d dictionary-ի “weight” key-ին համապատասխանող արժեք"
   ]
  },
  {
   "cell_type": "code",
   "execution_count": 14,
   "metadata": {},
   "outputs": [
    {
     "name": "stdout",
     "output_type": "stream",
     "text": [
      "{'name': 'Armen', 'age': 15, 'grades': [10, 8, 8, 4, 6, 7], 'weight': 5}\n",
      "6\n",
      "{'name': 'Armen', 'age': 15, 'grades': [10, 8, 8, 4, 6, 7], 'weight': '6'}\n"
     ]
    }
   ],
   "source": [
    "d={\"name\": \"Armen\", \"age\":15, \"grades\": [10, 8, 8, 4, 6, 7],\"weight\":5 }\n",
    "print(d)\n",
    "n=input()\n",
    "d[\"weight\"]=n\n",
    "print(d)"
   ]
  },
  {
   "cell_type": "markdown",
   "metadata": {},
   "source": [
    "## ճիշտ տարբերակ"
   ]
  },
  {
   "cell_type": "code",
   "execution_count": 18,
   "metadata": {},
   "outputs": [
    {
     "name": "stdout",
     "output_type": "stream",
     "text": [
      "{'name': 'Armen', 'age': 15, 'grades': [10, 8, 8, 4, 6, 7], 'weight': 3}\n",
      "3\n",
      "{'name': 'Armen', 'age': 15, 'grades': [10, 8, 8, 4, 6, 7], 'weight': 3}\n"
     ]
    }
   ],
   "source": [
    "d={\"name\": \"Armen\", \"age\":15, \"grades\": [10, 8, 8, 4, 6, 7],\"weight\":3 }\n",
    "print(d)\n",
    "if \"weight\" in d.keys():\n",
    "    print (d[\"weight\"])\n",
    "else:\n",
    "        n=input()\n",
    "        d[\"weight\"]=n\n",
    "print (d)"
   ]
  },
  {
   "cell_type": "markdown",
   "metadata": {},
   "source": [
    "## H4"
   ]
  },
  {
   "cell_type": "code",
   "execution_count": null,
   "metadata": {},
   "outputs": [],
   "source": [
    "correct_num=5\n",
    "guess=int(input())\n",
    "i=0\n",
    "while i<9:\n",
    "    if guess==correct_num:\n",
    "        print(\"ok\")\n",
    "        break\n",
    "    else:\n",
    "        guess=int(input())\n",
    "    \n",
    "    i=i+1"
   ]
  },
  {
   "cell_type": "markdown",
   "metadata": {},
   "source": [
    "## H5"
   ]
  },
  {
   "cell_type": "code",
   "execution_count": 3,
   "metadata": {},
   "outputs": [
    {
     "name": "stdout",
     "output_type": "stream",
     "text": [
      "['a', 'abc', 'xyz', 's', 'aba', '1221']\n",
      "['aba', '1221']\n"
     ]
    }
   ],
   "source": [
    "list1=['a', 'abc', 'xyz', 's', 'aba','1221']\n",
    "print(list1)\n",
    "list2=[x for x in list1 if len(x)>2 and x[0]==x[-1]]\n",
    "print(list2)"
   ]
  },
  {
   "cell_type": "markdown",
   "metadata": {},
   "source": [
    "## Finish"
   ]
  }
 ],
 "metadata": {
  "kernelspec": {
   "display_name": "Python 3",
   "language": "python",
   "name": "python3"
  },
  "language_info": {
   "codemirror_mode": {
    "name": "ipython",
    "version": 3
   },
   "file_extension": ".py",
   "mimetype": "text/x-python",
   "name": "python",
   "nbconvert_exporter": "python",
   "pygments_lexer": "ipython3",
   "version": "3.7.6"
  }
 },
 "nbformat": 4,
 "nbformat_minor": 4
}
