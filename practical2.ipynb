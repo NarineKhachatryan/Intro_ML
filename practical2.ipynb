{
 "cells": [
  {
   "cell_type": "markdown",
   "metadata": {},
   "source": [
    "## P1"
   ]
  },
  {
   "cell_type": "markdown",
   "metadata": {},
   "source": [
    "Create a function that takes 3 integers as arguments and returns their average value."
   ]
  },
  {
   "cell_type": "code",
   "execution_count": 7,
   "metadata": {},
   "outputs": [],
   "source": [
    "def average(x,y,z):\n",
    "    return (x+y+z)/3\n"
   ]
  },
  {
   "cell_type": "code",
   "execution_count": 10,
   "metadata": {},
   "outputs": [
    {
     "name": "stdout",
     "output_type": "stream",
     "text": [
      "4.0\n"
     ]
    }
   ],
   "source": [
    "aver=average(2,2,8)\n",
    "print(aver)"
   ]
  },
  {
   "cell_type": "markdown",
   "metadata": {},
   "source": [
    "## P2"
   ]
  },
  {
   "cell_type": "markdown",
   "metadata": {},
   "source": [
    "Create a function that takes a list of integers as an argument and returns the number of\n",
    "even values in the given list."
   ]
  },
  {
   "cell_type": "code",
   "execution_count": 141,
   "metadata": {},
   "outputs": [],
   "source": [
    "def func(list1):\n",
    "    \"\"\" Count the number of even values in the given list \"\"\"\n",
    "    list2=[]\n",
    "    for i in list1:\n",
    "        if i%2==0:\n",
    "            list2.append(i)\n",
    "    return len((list2))\n",
    "        "
   ]
  },
  {
   "cell_type": "code",
   "execution_count": 143,
   "metadata": {},
   "outputs": [
    {
     "name": "stdout",
     "output_type": "stream",
     "text": [
      "3\n"
     ]
    }
   ],
   "source": [
    "x=func([2,3,5,6,10])\n",
    "print (x)\n"
   ]
  },
  {
   "cell_type": "markdown",
   "metadata": {},
   "source": [
    "## P3"
   ]
  },
  {
   "cell_type": "markdown",
   "metadata": {},
   "source": [
    "Create a function that takes one required argument name of type String and an\n",
    "undefined number of optional non-keyword arguments. The function should calculate the\n",
    "average value of the optional arguments (if at least one optional argument is given) and\n",
    "print the following: if at least one optional argument is given print “ X , your average grade\n",
    "is: Y ”, where X is the value of the argument name and Y is the average value of the\n",
    "optional arguments. Otherwise, print “No grades available for X ”, where X is the value of\n",
    "the argument name."
   ]
  },
  {
   "cell_type": "code",
   "execution_count": 81,
   "metadata": {},
   "outputs": [],
   "source": [
    "def fun(name,*arg):\n",
    "    \n",
    "    if len(arg)>=1:\n",
    "        averarg=sum(arg)/len(arg)\n",
    "        print(\"%s, your average grade is: %s\"  %(name,str(averarg)))\n",
    "    else:\n",
    "        print(\"No grades availble for %s\"  % name)\n",
    "        \n",
    "    "
   ]
  },
  {
   "cell_type": "code",
   "execution_count": 84,
   "metadata": {},
   "outputs": [
    {
     "name": "stdout",
     "output_type": "stream",
     "text": [
      "No grades availble for abc\n"
     ]
    }
   ],
   "source": [
    "x=fun(\"abc\")\n"
   ]
  },
  {
   "cell_type": "markdown",
   "metadata": {},
   "source": [
    "## P4"
   ]
  },
  {
   "cell_type": "markdown",
   "metadata": {},
   "source": [
    "Create the class Circle with attributes radius and color . Inside your class, create the\n",
    "method getDesc(self) which should print the text “A color circle with radius radius .”,\n",
    "using the values of the corresponding attributes .\n",
    "Create class object(s) and test your class."
   ]
  },
  {
   "cell_type": "code",
   "execution_count": 94,
   "metadata": {},
   "outputs": [],
   "source": [
    "class Circle(object):\n",
    "    def __init__(self,radius,color):\n",
    "        self.radius=radius\n",
    "        self.color=color\n",
    "        \n",
    "    def getDesc(self):\n",
    "        print(\"A %s circle with radius %s.\"  % (self.color,self.radius))"
   ]
  },
  {
   "cell_type": "code",
   "execution_count": 95,
   "metadata": {},
   "outputs": [
    {
     "name": "stdout",
     "output_type": "stream",
     "text": [
      "A red circle with radius 5.\n"
     ]
    }
   ],
   "source": [
    "a= Circle(5,\"red\")\n",
    "a.getDesc()"
   ]
  },
  {
   "cell_type": "markdown",
   "metadata": {},
   "source": [
    "## P5"
   ]
  },
  {
   "cell_type": "markdown",
   "metadata": {},
   "source": [
    "Create the class Employee, which has the following attributes: name , last_name and a\n",
    "private attribute monthly_salary . Inside your class, create the method\n",
    "getFullName(self), which will return “ name last_name ”, using the values of the\n",
    "corresponding attributes. Create the method annualSalary(self) , which will calculate the\n",
    "annual salary of the employee, using the values of the corresponding attributes and will\n",
    "return “High” in case the salary is >100 and “Low”, otherwise.\n",
    "Create class object(s) and test your class."
   ]
  },
  {
   "cell_type": "code",
   "execution_count": 110,
   "metadata": {},
   "outputs": [],
   "source": [
    "class Employee(object):\n",
    "    def __init__(self,name,last_name,monthly_salary):\n",
    "        self.name=name\n",
    "        self.last_name=last_name\n",
    "        self.__monthly_salary=monthly_salary\n",
    "    \n",
    "    def getFullName(self):\n",
    "        return (\"Name,Last Name is : %s %s\" % (self.name,self.last_name))\n",
    "    \n",
    "    def get_monthly_salary(self):\n",
    "        return self.__monthly_salary\n",
    "        \n",
    "    def annualSalary(self):\n",
    "        if (self.__monthly_salary*12)>100:\n",
    "            return (\"High\")\n",
    "        else:\n",
    "            return(\"Low\")\n",
    "    \n",
    "    \n",
    "    "
   ]
  },
  {
   "cell_type": "code",
   "execution_count": 111,
   "metadata": {},
   "outputs": [
    {
     "name": "stdout",
     "output_type": "stream",
     "text": [
      "Name,Last Name is : Nar Khach\n",
      "Low\n"
     ]
    }
   ],
   "source": [
    "ep1=Employee(\"Nar\",\"Khach\",5)\n",
    "print(ep1.getFullName())\n",
    "print(ep1.annualSalary())"
   ]
  },
  {
   "cell_type": "markdown",
   "metadata": {},
   "source": [
    "## P6"
   ]
  },
  {
   "cell_type": "markdown",
   "metadata": {},
   "source": [
    "Create the class Car with the following attributes: model , color and max_speed . Inside\n",
    "the class, create the method compareCar(self, car2) which gets an object of type Car\n",
    "as an argument and returns the text “car1 is better than car2” if the maxSpeed attribute\n",
    "of your car is larger than the maxSpeed attribute of car2 and returns the text “car2 is\n",
    "better than car1”՝ otherwise.\n",
    "Create class object(s) and test your class."
   ]
  },
  {
   "cell_type": "code",
   "execution_count": 114,
   "metadata": {},
   "outputs": [],
   "source": [
    "class Car(object):\n",
    "    def __init__(self,model,color,max_speed):\n",
    "        self.model=model\n",
    "        self.color=color\n",
    "        self.max_speed=max_speed\n",
    "        \n",
    "    def compareCar(self, car2):\n",
    "        if(self.max_speed>car2.max_speed):\n",
    "            return(\"car1 is better than car2\")\n",
    "        else:\n",
    "            return(\"car2 is better than car1\")"
   ]
  },
  {
   "cell_type": "code",
   "execution_count": 115,
   "metadata": {},
   "outputs": [
    {
     "name": "stdout",
     "output_type": "stream",
     "text": [
      "car1 is better than car2\n"
     ]
    }
   ],
   "source": [
    "car1=Car(\"BMW\",\"white\",210)\n",
    "car2=Car(\"Nissan\",\"black\",180)\n",
    "print(car1.compareCar(car2))"
   ]
  },
  {
   "cell_type": "markdown",
   "metadata": {},
   "source": [
    "## P7"
   ]
  },
  {
   "cell_type": "markdown",
   "metadata": {},
   "source": [
    "Create the class Animal.\n",
    "Attributes: name\n",
    "Methods: __init__(self, name) -> creates the attribute name\n",
    "move(self) -> prints “I can move”\n",
    "Create the class Dog which inherits from the class Animal\n",
    "Attributes: -\n",
    "Methods: __init__(self) -> calls the __init__ method of the Animal with a value “Dog”\n",
    "Create an object of class Dog and call the method move() from the object.\n",
    "Now, add a method move(), which prints “I can run really fast”.\n",
    "Create an object of class Dog and call the method move() from the object."
   ]
  },
  {
   "cell_type": "code",
   "execution_count": 133,
   "metadata": {},
   "outputs": [],
   "source": [
    "class Animal():\n",
    "    def __init__(self,name):\n",
    "        self.name=name\n",
    "        \n",
    "    def move(self):\n",
    "        print(\"I can move\")\n",
    "        \n",
    "class Dog(Animal):\n",
    "    def __init__(self):\n",
    "        Animal.__init__(self,\"haski\")\n",
    "        \n",
    "    def move(self):\n",
    "        print(\"I can run really fast\")\n",
    "        \n",
    "    "
   ]
  },
  {
   "cell_type": "code",
   "execution_count": 134,
   "metadata": {},
   "outputs": [
    {
     "name": "stdout",
     "output_type": "stream",
     "text": [
      "I can run really fast\n"
     ]
    }
   ],
   "source": [
    "a1=Dog()\n",
    "a1.move()"
   ]
  },
  {
   "cell_type": "markdown",
   "metadata": {},
   "source": [
    "# Finish"
   ]
  }
 ],
 "metadata": {
  "kernelspec": {
   "display_name": "Python 3",
   "language": "python",
   "name": "python3"
  },
  "language_info": {
   "codemirror_mode": {
    "name": "ipython",
    "version": 3
   },
   "file_extension": ".py",
   "mimetype": "text/x-python",
   "name": "python",
   "nbconvert_exporter": "python",
   "pygments_lexer": "ipython3",
   "version": "3.7.6"
  }
 },
 "nbformat": 4,
 "nbformat_minor": 4
}
